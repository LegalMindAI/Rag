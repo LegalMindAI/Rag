{
  "nbformat": 4,
  "nbformat_minor": 0,
  "metadata": {
    "colab": {
      "provenance": [],
      "collapsed_sections": [
        "7e1BftUAUtyI",
        "-VYkvx4AaJ45",
        "DVbvDJzoTBc4",
        "upyjHoauvOlo",
        "JdjUHnixvr1x",
        "a0UBmhE8z7SU",
        "wBUaAwXg4FcY",
        "ZeHzeReOD8mk",
        "tgdwW_SIPM5g",
        "v_KJC7z5Pu0f",
        "66x_XbeUTLlp",
        "NhPeoZaPTany",
        "07fqoirDUVWo",
        "cROdzGjYcgFT",
        "xAeWLwludUxw",
        "-Z5a6SXpjtlN",
        "n6Pm_RlCvytM",
        "oZd2jGNiFwFY"
      ],
      "gpuType": "T4"
    },
    "kernelspec": {
      "name": "python3",
      "display_name": "Python 3"
    },
    "language_info": {
      "name": "python"
    },
    "accelerator": "GPU",
    "widgets": {
      "application/vnd.jupyter.widget-state+json": {
        "be1845baa0cc48ddb3377eda02ee4195": {
          "model_module": "@jupyter-widgets/controls",
          "model_name": "HBoxModel",
          "model_module_version": "1.5.0",
          "state": {
            "_dom_classes": [],
            "_model_module": "@jupyter-widgets/controls",
            "_model_module_version": "1.5.0",
            "_model_name": "HBoxModel",
            "_view_count": null,
            "_view_module": "@jupyter-widgets/controls",
            "_view_module_version": "1.5.0",
            "_view_name": "HBoxView",
            "box_style": "",
            "children": [
              "IPY_MODEL_7036364e6ed0426fa31f16a916065196",
              "IPY_MODEL_40d234e909864785b0291ea226f16a38",
              "IPY_MODEL_801199f829c049d0acf9ed33deb911f7"
            ],
            "layout": "IPY_MODEL_02581845e8e345ea86f01fac393c3e9c"
          }
        },
        "7036364e6ed0426fa31f16a916065196": {
          "model_module": "@jupyter-widgets/controls",
          "model_name": "HTMLModel",
          "model_module_version": "1.5.0",
          "state": {
            "_dom_classes": [],
            "_model_module": "@jupyter-widgets/controls",
            "_model_module_version": "1.5.0",
            "_model_name": "HTMLModel",
            "_view_count": null,
            "_view_module": "@jupyter-widgets/controls",
            "_view_module_version": "1.5.0",
            "_view_name": "HTMLView",
            "description": "",
            "description_tooltip": null,
            "layout": "IPY_MODEL_94b9d38d247848da8ce0ff4cb26692fc",
            "placeholder": "​",
            "style": "IPY_MODEL_acc93baa87fd4557864eac71b742004e",
            "value": "Batches: 100%"
          }
        },
        "40d234e909864785b0291ea226f16a38": {
          "model_module": "@jupyter-widgets/controls",
          "model_name": "FloatProgressModel",
          "model_module_version": "1.5.0",
          "state": {
            "_dom_classes": [],
            "_model_module": "@jupyter-widgets/controls",
            "_model_module_version": "1.5.0",
            "_model_name": "FloatProgressModel",
            "_view_count": null,
            "_view_module": "@jupyter-widgets/controls",
            "_view_module_version": "1.5.0",
            "_view_name": "ProgressView",
            "bar_style": "success",
            "description": "",
            "description_tooltip": null,
            "layout": "IPY_MODEL_7763ea75eae0462589eb79e62dcd64d1",
            "max": 332,
            "min": 0,
            "orientation": "horizontal",
            "style": "IPY_MODEL_afb7dcd230ca4bda852e6888bb648e8a",
            "value": 332
          }
        },
        "801199f829c049d0acf9ed33deb911f7": {
          "model_module": "@jupyter-widgets/controls",
          "model_name": "HTMLModel",
          "model_module_version": "1.5.0",
          "state": {
            "_dom_classes": [],
            "_model_module": "@jupyter-widgets/controls",
            "_model_module_version": "1.5.0",
            "_model_name": "HTMLModel",
            "_view_count": null,
            "_view_module": "@jupyter-widgets/controls",
            "_view_module_version": "1.5.0",
            "_view_name": "HTMLView",
            "description": "",
            "description_tooltip": null,
            "layout": "IPY_MODEL_04c0b8f0bd894490b3cd1e268b0b1703",
            "placeholder": "​",
            "style": "IPY_MODEL_81d0d6edd83e424aa7b609ef25f95147",
            "value": " 332/332 [10:26&lt;00:00,  5.07it/s]"
          }
        },
        "02581845e8e345ea86f01fac393c3e9c": {
          "model_module": "@jupyter-widgets/base",
          "model_name": "LayoutModel",
          "model_module_version": "1.2.0",
          "state": {
            "_model_module": "@jupyter-widgets/base",
            "_model_module_version": "1.2.0",
            "_model_name": "LayoutModel",
            "_view_count": null,
            "_view_module": "@jupyter-widgets/base",
            "_view_module_version": "1.2.0",
            "_view_name": "LayoutView",
            "align_content": null,
            "align_items": null,
            "align_self": null,
            "border": null,
            "bottom": null,
            "display": null,
            "flex": null,
            "flex_flow": null,
            "grid_area": null,
            "grid_auto_columns": null,
            "grid_auto_flow": null,
            "grid_auto_rows": null,
            "grid_column": null,
            "grid_gap": null,
            "grid_row": null,
            "grid_template_areas": null,
            "grid_template_columns": null,
            "grid_template_rows": null,
            "height": null,
            "justify_content": null,
            "justify_items": null,
            "left": null,
            "margin": null,
            "max_height": null,
            "max_width": null,
            "min_height": null,
            "min_width": null,
            "object_fit": null,
            "object_position": null,
            "order": null,
            "overflow": null,
            "overflow_x": null,
            "overflow_y": null,
            "padding": null,
            "right": null,
            "top": null,
            "visibility": null,
            "width": null
          }
        },
        "94b9d38d247848da8ce0ff4cb26692fc": {
          "model_module": "@jupyter-widgets/base",
          "model_name": "LayoutModel",
          "model_module_version": "1.2.0",
          "state": {
            "_model_module": "@jupyter-widgets/base",
            "_model_module_version": "1.2.0",
            "_model_name": "LayoutModel",
            "_view_count": null,
            "_view_module": "@jupyter-widgets/base",
            "_view_module_version": "1.2.0",
            "_view_name": "LayoutView",
            "align_content": null,
            "align_items": null,
            "align_self": null,
            "border": null,
            "bottom": null,
            "display": null,
            "flex": null,
            "flex_flow": null,
            "grid_area": null,
            "grid_auto_columns": null,
            "grid_auto_flow": null,
            "grid_auto_rows": null,
            "grid_column": null,
            "grid_gap": null,
            "grid_row": null,
            "grid_template_areas": null,
            "grid_template_columns": null,
            "grid_template_rows": null,
            "height": null,
            "justify_content": null,
            "justify_items": null,
            "left": null,
            "margin": null,
            "max_height": null,
            "max_width": null,
            "min_height": null,
            "min_width": null,
            "object_fit": null,
            "object_position": null,
            "order": null,
            "overflow": null,
            "overflow_x": null,
            "overflow_y": null,
            "padding": null,
            "right": null,
            "top": null,
            "visibility": null,
            "width": null
          }
        },
        "acc93baa87fd4557864eac71b742004e": {
          "model_module": "@jupyter-widgets/controls",
          "model_name": "DescriptionStyleModel",
          "model_module_version": "1.5.0",
          "state": {
            "_model_module": "@jupyter-widgets/controls",
            "_model_module_version": "1.5.0",
            "_model_name": "DescriptionStyleModel",
            "_view_count": null,
            "_view_module": "@jupyter-widgets/base",
            "_view_module_version": "1.2.0",
            "_view_name": "StyleView",
            "description_width": ""
          }
        },
        "7763ea75eae0462589eb79e62dcd64d1": {
          "model_module": "@jupyter-widgets/base",
          "model_name": "LayoutModel",
          "model_module_version": "1.2.0",
          "state": {
            "_model_module": "@jupyter-widgets/base",
            "_model_module_version": "1.2.0",
            "_model_name": "LayoutModel",
            "_view_count": null,
            "_view_module": "@jupyter-widgets/base",
            "_view_module_version": "1.2.0",
            "_view_name": "LayoutView",
            "align_content": null,
            "align_items": null,
            "align_self": null,
            "border": null,
            "bottom": null,
            "display": null,
            "flex": null,
            "flex_flow": null,
            "grid_area": null,
            "grid_auto_columns": null,
            "grid_auto_flow": null,
            "grid_auto_rows": null,
            "grid_column": null,
            "grid_gap": null,
            "grid_row": null,
            "grid_template_areas": null,
            "grid_template_columns": null,
            "grid_template_rows": null,
            "height": null,
            "justify_content": null,
            "justify_items": null,
            "left": null,
            "margin": null,
            "max_height": null,
            "max_width": null,
            "min_height": null,
            "min_width": null,
            "object_fit": null,
            "object_position": null,
            "order": null,
            "overflow": null,
            "overflow_x": null,
            "overflow_y": null,
            "padding": null,
            "right": null,
            "top": null,
            "visibility": null,
            "width": null
          }
        },
        "afb7dcd230ca4bda852e6888bb648e8a": {
          "model_module": "@jupyter-widgets/controls",
          "model_name": "ProgressStyleModel",
          "model_module_version": "1.5.0",
          "state": {
            "_model_module": "@jupyter-widgets/controls",
            "_model_module_version": "1.5.0",
            "_model_name": "ProgressStyleModel",
            "_view_count": null,
            "_view_module": "@jupyter-widgets/base",
            "_view_module_version": "1.2.0",
            "_view_name": "StyleView",
            "bar_color": null,
            "description_width": ""
          }
        },
        "04c0b8f0bd894490b3cd1e268b0b1703": {
          "model_module": "@jupyter-widgets/base",
          "model_name": "LayoutModel",
          "model_module_version": "1.2.0",
          "state": {
            "_model_module": "@jupyter-widgets/base",
            "_model_module_version": "1.2.0",
            "_model_name": "LayoutModel",
            "_view_count": null,
            "_view_module": "@jupyter-widgets/base",
            "_view_module_version": "1.2.0",
            "_view_name": "LayoutView",
            "align_content": null,
            "align_items": null,
            "align_self": null,
            "border": null,
            "bottom": null,
            "display": null,
            "flex": null,
            "flex_flow": null,
            "grid_area": null,
            "grid_auto_columns": null,
            "grid_auto_flow": null,
            "grid_auto_rows": null,
            "grid_column": null,
            "grid_gap": null,
            "grid_row": null,
            "grid_template_areas": null,
            "grid_template_columns": null,
            "grid_template_rows": null,
            "height": null,
            "justify_content": null,
            "justify_items": null,
            "left": null,
            "margin": null,
            "max_height": null,
            "max_width": null,
            "min_height": null,
            "min_width": null,
            "object_fit": null,
            "object_position": null,
            "order": null,
            "overflow": null,
            "overflow_x": null,
            "overflow_y": null,
            "padding": null,
            "right": null,
            "top": null,
            "visibility": null,
            "width": null
          }
        },
        "81d0d6edd83e424aa7b609ef25f95147": {
          "model_module": "@jupyter-widgets/controls",
          "model_name": "DescriptionStyleModel",
          "model_module_version": "1.5.0",
          "state": {
            "_model_module": "@jupyter-widgets/controls",
            "_model_module_version": "1.5.0",
            "_model_name": "DescriptionStyleModel",
            "_view_count": null,
            "_view_module": "@jupyter-widgets/base",
            "_view_module_version": "1.2.0",
            "_view_name": "StyleView",
            "description_width": ""
          }
        }
      }
    }
  },
  "cells": [
    {
      "cell_type": "markdown",
      "source": [
        "# RAG-based Indian Legal AI Assistant:\n",
        " Uses SentenceTransformer embeddings and FAISS for semantic retrieval over Indian legal cases, enabling Retrieval-Augmented Generation (RAG) for legal query answering."
      ],
      "metadata": {
        "id": "7e1BftUAUtyI"
      }
    },
    {
      "cell_type": "markdown",
      "source": [
        "## Delete Previous Records"
      ],
      "metadata": {
        "id": "-VYkvx4AaJ45"
      }
    },
    {
      "cell_type": "code",
      "source": [
        "# !rm -r legal_ai_deployment\n",
        "print(\"Removed\")"
      ],
      "metadata": {
        "colab": {
          "base_uri": "https://localhost:8080/"
        },
        "id": "F8qk7oY_aMxy",
        "outputId": "b210ef50-81b9-4a8a-9c51-016e5448aa8b"
      },
      "execution_count": null,
      "outputs": [
        {
          "output_type": "stream",
          "name": "stdout",
          "text": [
            "Removed\n"
          ]
        }
      ]
    },
    {
      "cell_type": "markdown",
      "source": [
        "## Unzip data(Mounted from drive)"
      ],
      "metadata": {
        "id": "DVbvDJzoTBc4"
      }
    },
    {
      "cell_type": "code",
      "source": [
        "from google.colab import drive\n",
        "drive.mount('/content/drive')"
      ],
      "metadata": {
        "id": "CDv4vWoFae09",
        "colab": {
          "base_uri": "https://localhost:8080/"
        },
        "outputId": "7a5521c4-088c-4619-c52c-c0e7c9bc342b"
      },
      "execution_count": null,
      "outputs": [
        {
          "output_type": "stream",
          "name": "stdout",
          "text": [
            "Mounted at /content/drive\n"
          ]
        }
      ]
    },
    {
      "cell_type": "code",
      "execution_count": null,
      "metadata": {
        "colab": {
          "base_uri": "https://localhost:8080/"
        },
        "id": "O1HvRmMxrslJ",
        "outputId": "c2ad40cc-d4a8-4bf6-c7b5-3651f0d98844"
      },
      "outputs": [
        {
          "output_type": "stream",
          "name": "stdout",
          "text": [
            "Archive:  /content/drive/MyDrive/cjpe.zip\n",
            "  inflating: /content/CJPE/il-tur-multi_train-00000-of-00002.arrow  \n",
            "  inflating: /content/CJPE/il-tur-multi_train-00001-of-00002.arrow  \n",
            "  inflating: /content/CJPE/il-tur-single_dev.arrow  \n",
            "  inflating: /content/CJPE/il-tur-single_train.arrow  \n",
            "  inflating: /content/CJPE/il-tur-test.arrow  \n",
            "  inflating: /content/CJPE/dataset_info.json  \n",
            "  inflating: /content/CJPE/il-tur-expert.arrow  \n",
            "  inflating: /content/CJPE/il-tur-multi_dev.arrow  \n",
            "Unzipped\n"
          ]
        }
      ],
      "source": [
        "!unzip '/content/drive/MyDrive/cjpe.zip' -d '/content/CJPE'\n",
        "print(\"Unzipped\")"
      ]
    },
    {
      "cell_type": "markdown",
      "source": [
        "## Installing Packages"
      ],
      "metadata": {
        "id": "upyjHoauvOlo"
      }
    },
    {
      "cell_type": "code",
      "source": [
        "!pip install datasets\n",
        "!pip install transformers\n",
        "!pip install torch\n",
        "!pip install numpy\n",
        "!pip install sentence-transformers\n",
        "!pip install faiss-cpu"
      ],
      "metadata": {
        "colab": {
          "base_uri": "https://localhost:8080/"
        },
        "id": "743GxL-dvS1B",
        "outputId": "0a6e2f90-4167-4c0e-fde0-e01c00761023"
      },
      "execution_count": null,
      "outputs": [
        {
          "output_type": "stream",
          "name": "stdout",
          "text": [
            "Requirement already satisfied: datasets in /usr/local/lib/python3.11/dist-packages (2.14.4)\n",
            "Requirement already satisfied: numpy>=1.17 in /usr/local/lib/python3.11/dist-packages (from datasets) (2.0.2)\n",
            "Requirement already satisfied: pyarrow>=8.0.0 in /usr/local/lib/python3.11/dist-packages (from datasets) (18.1.0)\n",
            "Requirement already satisfied: dill<0.3.8,>=0.3.0 in /usr/local/lib/python3.11/dist-packages (from datasets) (0.3.7)\n",
            "Requirement already satisfied: pandas in /usr/local/lib/python3.11/dist-packages (from datasets) (2.2.2)\n",
            "Requirement already satisfied: requests>=2.19.0 in /usr/local/lib/python3.11/dist-packages (from datasets) (2.32.3)\n",
            "Requirement already satisfied: tqdm>=4.62.1 in /usr/local/lib/python3.11/dist-packages (from datasets) (4.67.1)\n",
            "Requirement already satisfied: xxhash in /usr/local/lib/python3.11/dist-packages (from datasets) (3.5.0)\n",
            "Requirement already satisfied: multiprocess in /usr/local/lib/python3.11/dist-packages (from datasets) (0.70.15)\n",
            "Requirement already satisfied: fsspec>=2021.11.1 in /usr/local/lib/python3.11/dist-packages (from fsspec[http]>=2021.11.1->datasets) (2025.3.2)\n",
            "Requirement already satisfied: aiohttp in /usr/local/lib/python3.11/dist-packages (from datasets) (3.11.15)\n",
            "Requirement already satisfied: huggingface-hub<1.0.0,>=0.14.0 in /usr/local/lib/python3.11/dist-packages (from datasets) (0.31.2)\n",
            "Requirement already satisfied: packaging in /usr/local/lib/python3.11/dist-packages (from datasets) (24.2)\n",
            "Requirement already satisfied: pyyaml>=5.1 in /usr/local/lib/python3.11/dist-packages (from datasets) (6.0.2)\n",
            "Requirement already satisfied: aiohappyeyeballs>=2.3.0 in /usr/local/lib/python3.11/dist-packages (from aiohttp->datasets) (2.6.1)\n",
            "Requirement already satisfied: aiosignal>=1.1.2 in /usr/local/lib/python3.11/dist-packages (from aiohttp->datasets) (1.3.2)\n",
            "Requirement already satisfied: attrs>=17.3.0 in /usr/local/lib/python3.11/dist-packages (from aiohttp->datasets) (25.3.0)\n",
            "Requirement already satisfied: frozenlist>=1.1.1 in /usr/local/lib/python3.11/dist-packages (from aiohttp->datasets) (1.6.0)\n",
            "Requirement already satisfied: multidict<7.0,>=4.5 in /usr/local/lib/python3.11/dist-packages (from aiohttp->datasets) (6.4.3)\n",
            "Requirement already satisfied: propcache>=0.2.0 in /usr/local/lib/python3.11/dist-packages (from aiohttp->datasets) (0.3.1)\n",
            "Requirement already satisfied: yarl<2.0,>=1.17.0 in /usr/local/lib/python3.11/dist-packages (from aiohttp->datasets) (1.20.0)\n",
            "Requirement already satisfied: filelock in /usr/local/lib/python3.11/dist-packages (from huggingface-hub<1.0.0,>=0.14.0->datasets) (3.18.0)\n",
            "Requirement already satisfied: typing-extensions>=3.7.4.3 in /usr/local/lib/python3.11/dist-packages (from huggingface-hub<1.0.0,>=0.14.0->datasets) (4.13.2)\n",
            "Requirement already satisfied: charset-normalizer<4,>=2 in /usr/local/lib/python3.11/dist-packages (from requests>=2.19.0->datasets) (3.4.2)\n",
            "Requirement already satisfied: idna<4,>=2.5 in /usr/local/lib/python3.11/dist-packages (from requests>=2.19.0->datasets) (3.10)\n",
            "Requirement already satisfied: urllib3<3,>=1.21.1 in /usr/local/lib/python3.11/dist-packages (from requests>=2.19.0->datasets) (2.4.0)\n",
            "Requirement already satisfied: certifi>=2017.4.17 in /usr/local/lib/python3.11/dist-packages (from requests>=2.19.0->datasets) (2025.4.26)\n",
            "Requirement already satisfied: python-dateutil>=2.8.2 in /usr/local/lib/python3.11/dist-packages (from pandas->datasets) (2.9.0.post0)\n",
            "Requirement already satisfied: pytz>=2020.1 in /usr/local/lib/python3.11/dist-packages (from pandas->datasets) (2025.2)\n",
            "Requirement already satisfied: tzdata>=2022.7 in /usr/local/lib/python3.11/dist-packages (from pandas->datasets) (2025.2)\n",
            "Requirement already satisfied: six>=1.5 in /usr/local/lib/python3.11/dist-packages (from python-dateutil>=2.8.2->pandas->datasets) (1.17.0)\n",
            "Requirement already satisfied: transformers in /usr/local/lib/python3.11/dist-packages (4.51.3)\n",
            "Requirement already satisfied: filelock in /usr/local/lib/python3.11/dist-packages (from transformers) (3.18.0)\n",
            "Requirement already satisfied: huggingface-hub<1.0,>=0.30.0 in /usr/local/lib/python3.11/dist-packages (from transformers) (0.31.2)\n",
            "Requirement already satisfied: numpy>=1.17 in /usr/local/lib/python3.11/dist-packages (from transformers) (2.0.2)\n",
            "Requirement already satisfied: packaging>=20.0 in /usr/local/lib/python3.11/dist-packages (from transformers) (24.2)\n",
            "Requirement already satisfied: pyyaml>=5.1 in /usr/local/lib/python3.11/dist-packages (from transformers) (6.0.2)\n",
            "Requirement already satisfied: regex!=2019.12.17 in /usr/local/lib/python3.11/dist-packages (from transformers) (2024.11.6)\n",
            "Requirement already satisfied: requests in /usr/local/lib/python3.11/dist-packages (from transformers) (2.32.3)\n",
            "Requirement already satisfied: tokenizers<0.22,>=0.21 in /usr/local/lib/python3.11/dist-packages (from transformers) (0.21.1)\n",
            "Requirement already satisfied: safetensors>=0.4.3 in /usr/local/lib/python3.11/dist-packages (from transformers) (0.5.3)\n",
            "Requirement already satisfied: tqdm>=4.27 in /usr/local/lib/python3.11/dist-packages (from transformers) (4.67.1)\n",
            "Requirement already satisfied: fsspec>=2023.5.0 in /usr/local/lib/python3.11/dist-packages (from huggingface-hub<1.0,>=0.30.0->transformers) (2025.3.2)\n",
            "Requirement already satisfied: typing-extensions>=3.7.4.3 in /usr/local/lib/python3.11/dist-packages (from huggingface-hub<1.0,>=0.30.0->transformers) (4.13.2)\n",
            "Requirement already satisfied: charset-normalizer<4,>=2 in /usr/local/lib/python3.11/dist-packages (from requests->transformers) (3.4.2)\n",
            "Requirement already satisfied: idna<4,>=2.5 in /usr/local/lib/python3.11/dist-packages (from requests->transformers) (3.10)\n",
            "Requirement already satisfied: urllib3<3,>=1.21.1 in /usr/local/lib/python3.11/dist-packages (from requests->transformers) (2.4.0)\n",
            "Requirement already satisfied: certifi>=2017.4.17 in /usr/local/lib/python3.11/dist-packages (from requests->transformers) (2025.4.26)\n",
            "Requirement already satisfied: torch in /usr/local/lib/python3.11/dist-packages (2.6.0+cu124)\n",
            "Requirement already satisfied: filelock in /usr/local/lib/python3.11/dist-packages (from torch) (3.18.0)\n",
            "Requirement already satisfied: typing-extensions>=4.10.0 in /usr/local/lib/python3.11/dist-packages (from torch) (4.13.2)\n",
            "Requirement already satisfied: networkx in /usr/local/lib/python3.11/dist-packages (from torch) (3.4.2)\n",
            "Requirement already satisfied: jinja2 in /usr/local/lib/python3.11/dist-packages (from torch) (3.1.6)\n",
            "Requirement already satisfied: fsspec in /usr/local/lib/python3.11/dist-packages (from torch) (2025.3.2)\n",
            "Collecting nvidia-cuda-nvrtc-cu12==12.4.127 (from torch)\n",
            "  Downloading nvidia_cuda_nvrtc_cu12-12.4.127-py3-none-manylinux2014_x86_64.whl.metadata (1.5 kB)\n",
            "Collecting nvidia-cuda-runtime-cu12==12.4.127 (from torch)\n",
            "  Downloading nvidia_cuda_runtime_cu12-12.4.127-py3-none-manylinux2014_x86_64.whl.metadata (1.5 kB)\n",
            "Collecting nvidia-cuda-cupti-cu12==12.4.127 (from torch)\n",
            "  Downloading nvidia_cuda_cupti_cu12-12.4.127-py3-none-manylinux2014_x86_64.whl.metadata (1.6 kB)\n",
            "Collecting nvidia-cudnn-cu12==9.1.0.70 (from torch)\n",
            "  Downloading nvidia_cudnn_cu12-9.1.0.70-py3-none-manylinux2014_x86_64.whl.metadata (1.6 kB)\n",
            "Collecting nvidia-cublas-cu12==12.4.5.8 (from torch)\n",
            "  Downloading nvidia_cublas_cu12-12.4.5.8-py3-none-manylinux2014_x86_64.whl.metadata (1.5 kB)\n",
            "Collecting nvidia-cufft-cu12==11.2.1.3 (from torch)\n",
            "  Downloading nvidia_cufft_cu12-11.2.1.3-py3-none-manylinux2014_x86_64.whl.metadata (1.5 kB)\n",
            "Collecting nvidia-curand-cu12==10.3.5.147 (from torch)\n",
            "  Downloading nvidia_curand_cu12-10.3.5.147-py3-none-manylinux2014_x86_64.whl.metadata (1.5 kB)\n",
            "Collecting nvidia-cusolver-cu12==11.6.1.9 (from torch)\n",
            "  Downloading nvidia_cusolver_cu12-11.6.1.9-py3-none-manylinux2014_x86_64.whl.metadata (1.6 kB)\n",
            "Collecting nvidia-cusparse-cu12==12.3.1.170 (from torch)\n",
            "  Downloading nvidia_cusparse_cu12-12.3.1.170-py3-none-manylinux2014_x86_64.whl.metadata (1.6 kB)\n",
            "Requirement already satisfied: nvidia-cusparselt-cu12==0.6.2 in /usr/local/lib/python3.11/dist-packages (from torch) (0.6.2)\n",
            "Requirement already satisfied: nvidia-nccl-cu12==2.21.5 in /usr/local/lib/python3.11/dist-packages (from torch) (2.21.5)\n",
            "Requirement already satisfied: nvidia-nvtx-cu12==12.4.127 in /usr/local/lib/python3.11/dist-packages (from torch) (12.4.127)\n",
            "Collecting nvidia-nvjitlink-cu12==12.4.127 (from torch)\n",
            "  Downloading nvidia_nvjitlink_cu12-12.4.127-py3-none-manylinux2014_x86_64.whl.metadata (1.5 kB)\n",
            "Requirement already satisfied: triton==3.2.0 in /usr/local/lib/python3.11/dist-packages (from torch) (3.2.0)\n",
            "Requirement already satisfied: sympy==1.13.1 in /usr/local/lib/python3.11/dist-packages (from torch) (1.13.1)\n",
            "Requirement already satisfied: mpmath<1.4,>=1.1.0 in /usr/local/lib/python3.11/dist-packages (from sympy==1.13.1->torch) (1.3.0)\n",
            "Requirement already satisfied: MarkupSafe>=2.0 in /usr/local/lib/python3.11/dist-packages (from jinja2->torch) (3.0.2)\n",
            "Downloading nvidia_cublas_cu12-12.4.5.8-py3-none-manylinux2014_x86_64.whl (363.4 MB)\n",
            "\u001b[2K   \u001b[90m━━━━━━━━━━━━━━━━━━━━━━━━━━━━━━━━━━━━━━━━\u001b[0m \u001b[32m363.4/363.4 MB\u001b[0m \u001b[31m4.8 MB/s\u001b[0m eta \u001b[36m0:00:00\u001b[0m\n",
            "\u001b[?25hDownloading nvidia_cuda_cupti_cu12-12.4.127-py3-none-manylinux2014_x86_64.whl (13.8 MB)\n",
            "\u001b[2K   \u001b[90m━━━━━━━━━━━━━━━━━━━━━━━━━━━━━━━━━━━━━━━━\u001b[0m \u001b[32m13.8/13.8 MB\u001b[0m \u001b[31m118.6 MB/s\u001b[0m eta \u001b[36m0:00:00\u001b[0m\n",
            "\u001b[?25hDownloading nvidia_cuda_nvrtc_cu12-12.4.127-py3-none-manylinux2014_x86_64.whl (24.6 MB)\n",
            "\u001b[2K   \u001b[90m━━━━━━━━━━━━━━━━━━━━━━━━━━━━━━━━━━━━━━━━\u001b[0m \u001b[32m24.6/24.6 MB\u001b[0m \u001b[31m88.9 MB/s\u001b[0m eta \u001b[36m0:00:00\u001b[0m\n",
            "\u001b[?25hDownloading nvidia_cuda_runtime_cu12-12.4.127-py3-none-manylinux2014_x86_64.whl (883 kB)\n",
            "\u001b[2K   \u001b[90m━━━━━━━━━━━━━━━━━━━━━━━━━━━━━━━━━━━━━━━━\u001b[0m \u001b[32m883.7/883.7 kB\u001b[0m \u001b[31m58.9 MB/s\u001b[0m eta \u001b[36m0:00:00\u001b[0m\n",
            "\u001b[?25hDownloading nvidia_cudnn_cu12-9.1.0.70-py3-none-manylinux2014_x86_64.whl (664.8 MB)\n",
            "\u001b[2K   \u001b[90m━━━━━━━━━━━━━━━━━━━━━━━━━━━━━━━━━━━━━━━━\u001b[0m \u001b[32m664.8/664.8 MB\u001b[0m \u001b[31m2.3 MB/s\u001b[0m eta \u001b[36m0:00:00\u001b[0m\n",
            "\u001b[?25hDownloading nvidia_cufft_cu12-11.2.1.3-py3-none-manylinux2014_x86_64.whl (211.5 MB)\n",
            "\u001b[2K   \u001b[90m━━━━━━━━━━━━━━━━━━━━━━━━━━━━━━━━━━━━━━━━\u001b[0m \u001b[32m211.5/211.5 MB\u001b[0m \u001b[31m5.8 MB/s\u001b[0m eta \u001b[36m0:00:00\u001b[0m\n",
            "\u001b[?25hDownloading nvidia_curand_cu12-10.3.5.147-py3-none-manylinux2014_x86_64.whl (56.3 MB)\n",
            "\u001b[2K   \u001b[90m━━━━━━━━━━━━━━━━━━━━━━━━━━━━━━━━━━━━━━━━\u001b[0m \u001b[32m56.3/56.3 MB\u001b[0m \u001b[31m13.1 MB/s\u001b[0m eta \u001b[36m0:00:00\u001b[0m\n",
            "\u001b[?25hDownloading nvidia_cusolver_cu12-11.6.1.9-py3-none-manylinux2014_x86_64.whl (127.9 MB)\n",
            "\u001b[2K   \u001b[90m━━━━━━━━━━━━━━━━━━━━━━━━━━━━━━━━━━━━━━━━\u001b[0m \u001b[32m127.9/127.9 MB\u001b[0m \u001b[31m7.8 MB/s\u001b[0m eta \u001b[36m0:00:00\u001b[0m\n",
            "\u001b[?25hDownloading nvidia_cusparse_cu12-12.3.1.170-py3-none-manylinux2014_x86_64.whl (207.5 MB)\n",
            "\u001b[2K   \u001b[90m━━━━━━━━━━━━━━━━━━━━━━━━━━━━━━━━━━━━━━━━\u001b[0m \u001b[32m207.5/207.5 MB\u001b[0m \u001b[31m5.5 MB/s\u001b[0m eta \u001b[36m0:00:00\u001b[0m\n",
            "\u001b[?25hDownloading nvidia_nvjitlink_cu12-12.4.127-py3-none-manylinux2014_x86_64.whl (21.1 MB)\n",
            "\u001b[2K   \u001b[90m━━━━━━━━━━━━━━━━━━━━━━━━━━━━━━━━━━━━━━━━\u001b[0m \u001b[32m21.1/21.1 MB\u001b[0m \u001b[31m107.1 MB/s\u001b[0m eta \u001b[36m0:00:00\u001b[0m\n",
            "\u001b[?25hInstalling collected packages: nvidia-nvjitlink-cu12, nvidia-curand-cu12, nvidia-cufft-cu12, nvidia-cuda-runtime-cu12, nvidia-cuda-nvrtc-cu12, nvidia-cuda-cupti-cu12, nvidia-cublas-cu12, nvidia-cusparse-cu12, nvidia-cudnn-cu12, nvidia-cusolver-cu12\n",
            "  Attempting uninstall: nvidia-nvjitlink-cu12\n",
            "    Found existing installation: nvidia-nvjitlink-cu12 12.5.82\n",
            "    Uninstalling nvidia-nvjitlink-cu12-12.5.82:\n",
            "      Successfully uninstalled nvidia-nvjitlink-cu12-12.5.82\n",
            "  Attempting uninstall: nvidia-curand-cu12\n",
            "    Found existing installation: nvidia-curand-cu12 10.3.6.82\n",
            "    Uninstalling nvidia-curand-cu12-10.3.6.82:\n",
            "      Successfully uninstalled nvidia-curand-cu12-10.3.6.82\n",
            "  Attempting uninstall: nvidia-cufft-cu12\n",
            "    Found existing installation: nvidia-cufft-cu12 11.2.3.61\n",
            "    Uninstalling nvidia-cufft-cu12-11.2.3.61:\n",
            "      Successfully uninstalled nvidia-cufft-cu12-11.2.3.61\n",
            "  Attempting uninstall: nvidia-cuda-runtime-cu12\n",
            "    Found existing installation: nvidia-cuda-runtime-cu12 12.5.82\n",
            "    Uninstalling nvidia-cuda-runtime-cu12-12.5.82:\n",
            "      Successfully uninstalled nvidia-cuda-runtime-cu12-12.5.82\n",
            "  Attempting uninstall: nvidia-cuda-nvrtc-cu12\n",
            "    Found existing installation: nvidia-cuda-nvrtc-cu12 12.5.82\n",
            "    Uninstalling nvidia-cuda-nvrtc-cu12-12.5.82:\n",
            "      Successfully uninstalled nvidia-cuda-nvrtc-cu12-12.5.82\n",
            "  Attempting uninstall: nvidia-cuda-cupti-cu12\n",
            "    Found existing installation: nvidia-cuda-cupti-cu12 12.5.82\n",
            "    Uninstalling nvidia-cuda-cupti-cu12-12.5.82:\n",
            "      Successfully uninstalled nvidia-cuda-cupti-cu12-12.5.82\n",
            "  Attempting uninstall: nvidia-cublas-cu12\n",
            "    Found existing installation: nvidia-cublas-cu12 12.5.3.2\n",
            "    Uninstalling nvidia-cublas-cu12-12.5.3.2:\n",
            "      Successfully uninstalled nvidia-cublas-cu12-12.5.3.2\n",
            "  Attempting uninstall: nvidia-cusparse-cu12\n",
            "    Found existing installation: nvidia-cusparse-cu12 12.5.1.3\n",
            "    Uninstalling nvidia-cusparse-cu12-12.5.1.3:\n",
            "      Successfully uninstalled nvidia-cusparse-cu12-12.5.1.3\n",
            "  Attempting uninstall: nvidia-cudnn-cu12\n",
            "    Found existing installation: nvidia-cudnn-cu12 9.3.0.75\n",
            "    Uninstalling nvidia-cudnn-cu12-9.3.0.75:\n",
            "      Successfully uninstalled nvidia-cudnn-cu12-9.3.0.75\n",
            "  Attempting uninstall: nvidia-cusolver-cu12\n",
            "    Found existing installation: nvidia-cusolver-cu12 11.6.3.83\n",
            "    Uninstalling nvidia-cusolver-cu12-11.6.3.83:\n",
            "      Successfully uninstalled nvidia-cusolver-cu12-11.6.3.83\n",
            "Successfully installed nvidia-cublas-cu12-12.4.5.8 nvidia-cuda-cupti-cu12-12.4.127 nvidia-cuda-nvrtc-cu12-12.4.127 nvidia-cuda-runtime-cu12-12.4.127 nvidia-cudnn-cu12-9.1.0.70 nvidia-cufft-cu12-11.2.1.3 nvidia-curand-cu12-10.3.5.147 nvidia-cusolver-cu12-11.6.1.9 nvidia-cusparse-cu12-12.3.1.170 nvidia-nvjitlink-cu12-12.4.127\n",
            "Requirement already satisfied: numpy in /usr/local/lib/python3.11/dist-packages (2.0.2)\n",
            "Requirement already satisfied: sentence-transformers in /usr/local/lib/python3.11/dist-packages (4.1.0)\n",
            "Requirement already satisfied: transformers<5.0.0,>=4.41.0 in /usr/local/lib/python3.11/dist-packages (from sentence-transformers) (4.51.3)\n",
            "Requirement already satisfied: tqdm in /usr/local/lib/python3.11/dist-packages (from sentence-transformers) (4.67.1)\n",
            "Requirement already satisfied: torch>=1.11.0 in /usr/local/lib/python3.11/dist-packages (from sentence-transformers) (2.6.0+cu124)\n",
            "Requirement already satisfied: scikit-learn in /usr/local/lib/python3.11/dist-packages (from sentence-transformers) (1.6.1)\n",
            "Requirement already satisfied: scipy in /usr/local/lib/python3.11/dist-packages (from sentence-transformers) (1.15.3)\n",
            "Requirement already satisfied: huggingface-hub>=0.20.0 in /usr/local/lib/python3.11/dist-packages (from sentence-transformers) (0.31.2)\n",
            "Requirement already satisfied: Pillow in /usr/local/lib/python3.11/dist-packages (from sentence-transformers) (11.2.1)\n",
            "Requirement already satisfied: typing_extensions>=4.5.0 in /usr/local/lib/python3.11/dist-packages (from sentence-transformers) (4.13.2)\n",
            "Requirement already satisfied: filelock in /usr/local/lib/python3.11/dist-packages (from huggingface-hub>=0.20.0->sentence-transformers) (3.18.0)\n",
            "Requirement already satisfied: fsspec>=2023.5.0 in /usr/local/lib/python3.11/dist-packages (from huggingface-hub>=0.20.0->sentence-transformers) (2025.3.2)\n",
            "Requirement already satisfied: packaging>=20.9 in /usr/local/lib/python3.11/dist-packages (from huggingface-hub>=0.20.0->sentence-transformers) (24.2)\n",
            "Requirement already satisfied: pyyaml>=5.1 in /usr/local/lib/python3.11/dist-packages (from huggingface-hub>=0.20.0->sentence-transformers) (6.0.2)\n",
            "Requirement already satisfied: requests in /usr/local/lib/python3.11/dist-packages (from huggingface-hub>=0.20.0->sentence-transformers) (2.32.3)\n",
            "Requirement already satisfied: networkx in /usr/local/lib/python3.11/dist-packages (from torch>=1.11.0->sentence-transformers) (3.4.2)\n",
            "Requirement already satisfied: jinja2 in /usr/local/lib/python3.11/dist-packages (from torch>=1.11.0->sentence-transformers) (3.1.6)\n",
            "Requirement already satisfied: nvidia-cuda-nvrtc-cu12==12.4.127 in /usr/local/lib/python3.11/dist-packages (from torch>=1.11.0->sentence-transformers) (12.4.127)\n",
            "Requirement already satisfied: nvidia-cuda-runtime-cu12==12.4.127 in /usr/local/lib/python3.11/dist-packages (from torch>=1.11.0->sentence-transformers) (12.4.127)\n",
            "Requirement already satisfied: nvidia-cuda-cupti-cu12==12.4.127 in /usr/local/lib/python3.11/dist-packages (from torch>=1.11.0->sentence-transformers) (12.4.127)\n",
            "Requirement already satisfied: nvidia-cudnn-cu12==9.1.0.70 in /usr/local/lib/python3.11/dist-packages (from torch>=1.11.0->sentence-transformers) (9.1.0.70)\n",
            "Requirement already satisfied: nvidia-cublas-cu12==12.4.5.8 in /usr/local/lib/python3.11/dist-packages (from torch>=1.11.0->sentence-transformers) (12.4.5.8)\n",
            "Requirement already satisfied: nvidia-cufft-cu12==11.2.1.3 in /usr/local/lib/python3.11/dist-packages (from torch>=1.11.0->sentence-transformers) (11.2.1.3)\n",
            "Requirement already satisfied: nvidia-curand-cu12==10.3.5.147 in /usr/local/lib/python3.11/dist-packages (from torch>=1.11.0->sentence-transformers) (10.3.5.147)\n",
            "Requirement already satisfied: nvidia-cusolver-cu12==11.6.1.9 in /usr/local/lib/python3.11/dist-packages (from torch>=1.11.0->sentence-transformers) (11.6.1.9)\n",
            "Requirement already satisfied: nvidia-cusparse-cu12==12.3.1.170 in /usr/local/lib/python3.11/dist-packages (from torch>=1.11.0->sentence-transformers) (12.3.1.170)\n",
            "Requirement already satisfied: nvidia-cusparselt-cu12==0.6.2 in /usr/local/lib/python3.11/dist-packages (from torch>=1.11.0->sentence-transformers) (0.6.2)\n",
            "Requirement already satisfied: nvidia-nccl-cu12==2.21.5 in /usr/local/lib/python3.11/dist-packages (from torch>=1.11.0->sentence-transformers) (2.21.5)\n",
            "Requirement already satisfied: nvidia-nvtx-cu12==12.4.127 in /usr/local/lib/python3.11/dist-packages (from torch>=1.11.0->sentence-transformers) (12.4.127)\n",
            "Requirement already satisfied: nvidia-nvjitlink-cu12==12.4.127 in /usr/local/lib/python3.11/dist-packages (from torch>=1.11.0->sentence-transformers) (12.4.127)\n",
            "Requirement already satisfied: triton==3.2.0 in /usr/local/lib/python3.11/dist-packages (from torch>=1.11.0->sentence-transformers) (3.2.0)\n",
            "Requirement already satisfied: sympy==1.13.1 in /usr/local/lib/python3.11/dist-packages (from torch>=1.11.0->sentence-transformers) (1.13.1)\n",
            "Requirement already satisfied: mpmath<1.4,>=1.1.0 in /usr/local/lib/python3.11/dist-packages (from sympy==1.13.1->torch>=1.11.0->sentence-transformers) (1.3.0)\n",
            "Requirement already satisfied: numpy>=1.17 in /usr/local/lib/python3.11/dist-packages (from transformers<5.0.0,>=4.41.0->sentence-transformers) (2.0.2)\n",
            "Requirement already satisfied: regex!=2019.12.17 in /usr/local/lib/python3.11/dist-packages (from transformers<5.0.0,>=4.41.0->sentence-transformers) (2024.11.6)\n",
            "Requirement already satisfied: tokenizers<0.22,>=0.21 in /usr/local/lib/python3.11/dist-packages (from transformers<5.0.0,>=4.41.0->sentence-transformers) (0.21.1)\n",
            "Requirement already satisfied: safetensors>=0.4.3 in /usr/local/lib/python3.11/dist-packages (from transformers<5.0.0,>=4.41.0->sentence-transformers) (0.5.3)\n",
            "Requirement already satisfied: joblib>=1.2.0 in /usr/local/lib/python3.11/dist-packages (from scikit-learn->sentence-transformers) (1.5.0)\n",
            "Requirement already satisfied: threadpoolctl>=3.1.0 in /usr/local/lib/python3.11/dist-packages (from scikit-learn->sentence-transformers) (3.6.0)\n",
            "Requirement already satisfied: MarkupSafe>=2.0 in /usr/local/lib/python3.11/dist-packages (from jinja2->torch>=1.11.0->sentence-transformers) (3.0.2)\n",
            "Requirement already satisfied: charset-normalizer<4,>=2 in /usr/local/lib/python3.11/dist-packages (from requests->huggingface-hub>=0.20.0->sentence-transformers) (3.4.2)\n",
            "Requirement already satisfied: idna<4,>=2.5 in /usr/local/lib/python3.11/dist-packages (from requests->huggingface-hub>=0.20.0->sentence-transformers) (3.10)\n",
            "Requirement already satisfied: urllib3<3,>=1.21.1 in /usr/local/lib/python3.11/dist-packages (from requests->huggingface-hub>=0.20.0->sentence-transformers) (2.4.0)\n",
            "Requirement already satisfied: certifi>=2017.4.17 in /usr/local/lib/python3.11/dist-packages (from requests->huggingface-hub>=0.20.0->sentence-transformers) (2025.4.26)\n",
            "Collecting faiss-cpu\n",
            "  Downloading faiss_cpu-1.11.0-cp311-cp311-manylinux_2_28_x86_64.whl.metadata (4.8 kB)\n",
            "Requirement already satisfied: numpy<3.0,>=1.25.0 in /usr/local/lib/python3.11/dist-packages (from faiss-cpu) (2.0.2)\n",
            "Requirement already satisfied: packaging in /usr/local/lib/python3.11/dist-packages (from faiss-cpu) (24.2)\n",
            "Downloading faiss_cpu-1.11.0-cp311-cp311-manylinux_2_28_x86_64.whl (31.3 MB)\n",
            "\u001b[2K   \u001b[90m━━━━━━━━━━━━━━━━━━━━━━━━━━━━━━━━━━━━━━━━\u001b[0m \u001b[32m31.3/31.3 MB\u001b[0m \u001b[31m71.2 MB/s\u001b[0m eta \u001b[36m0:00:00\u001b[0m\n",
            "\u001b[?25hInstalling collected packages: faiss-cpu\n",
            "Successfully installed faiss-cpu-1.11.0\n"
          ]
        }
      ]
    },
    {
      "cell_type": "markdown",
      "source": [
        "## Import Libraries"
      ],
      "metadata": {
        "id": "JdjUHnixvr1x"
      }
    },
    {
      "cell_type": "code",
      "source": [
        "import os\n",
        "import json\n",
        "import numpy as np\n",
        "from datasets import Dataset, concatenate_datasets\n",
        "import pyarrow as pa\n",
        "import torch\n",
        "from sentence_transformers import SentenceTransformer\n",
        "import faiss\n",
        "import re\n",
        "from datetime import datetime\n",
        "import pickle"
      ],
      "metadata": {
        "id": "vXRze4onvvja"
      },
      "execution_count": null,
      "outputs": []
    },
    {
      "cell_type": "markdown",
      "source": [
        "## Load CJPE dataset"
      ],
      "metadata": {
        "id": "a0UBmhE8z7SU"
      }
    },
    {
      "cell_type": "code",
      "source": [
        "print(\"Loading dataset\")\n",
        "\n",
        "try:\n",
        "  dataset_path = \"/content/CJPE\"\n",
        "\n",
        "  # load all splits\n",
        "  cjpe_dataset = {\n",
        "      'expert': Dataset.from_file(f\"{dataset_path}/il-tur-expert.arrow\"),\n",
        "      'single_train': Dataset.from_file(f\"{dataset_path}/il-tur-single_train.arrow\"),\n",
        "      'single_dev': Dataset.from_file(f\"{dataset_path}/il-tur-single_dev.arrow\"),\n",
        "      'multi_train': concatenate_datasets([\n",
        "          Dataset.from_file(f\"{dataset_path}/il-tur-multi_train-00000-of-00002.arrow\"),\n",
        "          Dataset.from_file(f\"{dataset_path}/il-tur-multi_train-00001-of-00002.arrow\")\n",
        "      ]),\n",
        "      'multi_dev': Dataset.from_file(f\"{dataset_path}/il-tur-multi_dev.arrow\"),\n",
        "      'test': Dataset.from_file(f\"{dataset_path}/il-tur-test.arrow\")\n",
        "  }\n",
        "\n",
        "  # combine splits\n",
        "  all_cases = []\n",
        "  for i in cjpe_dataset.values():\n",
        "    all_cases.extend(i)\n",
        "\n",
        "  print(f\" Loaded {len(all_cases): ,} cases\")\n",
        "except Exception as e:\n",
        "  print(f\"Error : {e}\")"
      ],
      "metadata": {
        "colab": {
          "base_uri": "https://localhost:8080/"
        },
        "id": "bzwQLtOUz-1i",
        "outputId": "3e71b09a-7801-4d67-dc78-b9ec88ba6334"
      },
      "execution_count": null,
      "outputs": [
        {
          "output_type": "stream",
          "name": "stdout",
          "text": [
            "Loading dataset\n"
          ]
        },
        {
          "output_type": "stream",
          "name": "stderr",
          "text": [
            "/usr/local/lib/python3.11/dist-packages/datasets/table.py:1421: FutureWarning: promote has been superseded by promote_options='default'.\n",
            "  table = cls._concat_blocks(blocks, axis=0)\n"
          ]
        },
        {
          "output_type": "stream",
          "name": "stdout",
          "text": [
            " Loaded  42,465 cases\n"
          ]
        }
      ]
    },
    {
      "cell_type": "markdown",
      "source": [
        "## Build simple Knowledge Base"
      ],
      "metadata": {
        "id": "wBUaAwXg4FcY"
      }
    },
    {
      "cell_type": "code",
      "source": [
        "print(\"Simple Knowledge Base\")\n",
        "\n",
        "legal_knowledge = {\n",
        "    'case_summaries' : []\n",
        "}\n",
        "\n",
        "for i, case in enumerate(all_cases):\n",
        "  if i % 10000 == 0:\n",
        "    print(f\" Processed {i}/{len(all_cases)} cases\")\n",
        "\n",
        "  legal_knowledge['case_summaries'].append({\n",
        "      'id': case.get('id', f'case_{i}'),\n",
        "      'text' : case.get('text', ''),\n",
        "      'decision': 'ACCEPTED' if case.get('label') == 1 else 'REJECTED',\n",
        "      'expert_1' : case.get('expert_1'),\n",
        "      'expert_2' : case.get('expert_2'),\n",
        "      'expert_3' : case.get('expert_3'),\n",
        "      'expert_4' : case.get('expert_4'),\n",
        "      'expert_5' : case.get('expert_5')\n",
        "  })\n",
        "\n",
        "\n",
        "print(f\"Knowledge base ready with {len(legal_knowledge['case_summaries']):,} cases\")"
      ],
      "metadata": {
        "colab": {
          "base_uri": "https://localhost:8080/"
        },
        "id": "IEvnBKUS4MTZ",
        "outputId": "2e38cf1a-8a7d-4b02-ca48-28f05fe2684c"
      },
      "execution_count": null,
      "outputs": [
        {
          "output_type": "stream",
          "name": "stdout",
          "text": [
            "Simple Knowledge Base\n",
            " Processed 0/42465 cases\n",
            " Processed 10000/42465 cases\n",
            " Processed 20000/42465 cases\n",
            " Processed 30000/42465 cases\n",
            " Processed 40000/42465 cases\n",
            "Knowledge base ready with 42,465 cases\n"
          ]
        }
      ]
    },
    {
      "cell_type": "markdown",
      "source": [
        "## AI Assistant(Class Definition)"
      ],
      "metadata": {
        "id": "ZeHzeReOD8mk"
      }
    },
    {
      "cell_type": "code",
      "source": [
        "class IndianLegalAssistant:\n",
        "  def __init__(self, knowledge_base):\n",
        "    self.knowledge_base = knowledge_base\n",
        "    self.device = torch.device('cuda' if torch.cuda.is_available() else 'cpu')\n",
        "    print(f\"Device being used : {self.device}\")\n",
        "\n",
        "    # Initialise model\n",
        "    print(\"Loading model\")\n",
        "    # self.sentence_model = SentenceTransformer('all-mpnet-base-v2')\n",
        "    # using a smaller model for ec2 deployment\n",
        "    self.sentence_model = SentenceTransformer('all-MiniLM-L6-v2')\n",
        "\n",
        "    # create embeddings for each case(fast retrievals)\n",
        "    self.prepare_case_embeddings()\n",
        "\n",
        "    # convo patterns(Used to identify the user's intent)\n",
        "    self.legal_patterns = {\n",
        "        'case_inquiry': ['case', 'matter', 'legal issue', 'problem', 'dispute'],\n",
        "        'procedure': ['procedure', 'process', 'how to', 'steps', 'file', 'appeal'],\n",
        "        'rights': ['rights', 'fundamental rights', 'legal rights', 'constitutional'],\n",
        "        'acts_laws': ['act', 'law', 'section', 'article', 'provision'],\n",
        "        'court_info': ['court', 'judge', 'jurisdiction', 'venue', 'hearing'],\n",
        "        'greetings' : ['hello', 'hi', 'hey', 'namaste', 'good morning', 'good afternoon', 'good evening']\n",
        "    }\n",
        "\n",
        "  # create the vector embeddings for all the cases\n",
        "  def prepare_case_embeddings(self):\n",
        "    print(\"Preparing case embeddings\")\n",
        "\n",
        "    case_texts = [case['text'] for case in self.knowledge_base['case_summaries']]\n",
        "    # batch acc to t4\n",
        "    self.case_embeddings = self.sentence_model.encode(case_texts, show_progress_bar=True, batch_size=128)\n",
        "\n",
        "    # Make FAISS Index\n",
        "    self.faiss_index = faiss.IndexFlatIP(self.case_embeddings.shape[1])\n",
        "    self.faiss_index.add(self.case_embeddings.astype('float32'))\n",
        "\n",
        "    print(f\"Prepared {len(case_texts)} case embeddings\")\n",
        "\n",
        "  def find_similar_cases(self, query, top_k=3):\n",
        "    # this will take the user's query and convert it into a vector using same model\n",
        "    query_embedding = self.sentence_model.encode([query])\n",
        "\n",
        "    # search similar cases\n",
        "    scores, indices = self.faiss_index.search(query_embedding.astype('float32'), top_k)\n",
        "\n",
        "    similar_cases = []\n",
        "    # FAISS returns result in 2D array(first dimension has the query so indices[0])\n",
        "    for i, idx in enumerate(indices[0]):\n",
        "      similar_cases.append({\n",
        "          'case' : self.knowledge_base['case_summaries'][idx],\n",
        "          'similarity': scores[0][i]\n",
        "      })\n",
        "    return similar_cases\n",
        "\n",
        "  # classify query intent(uses common convo to classify)\n",
        "  def classify_intent(self, query):\n",
        "    query_lower = query.lower()\n",
        "\n",
        "    for intent, keywords in self.legal_patterns.items():\n",
        "      if any(keyword in query_lower for keyword in keywords):\n",
        "        return intent\n",
        "\n",
        "    return 'general_legal'\n",
        "\n",
        "  # Generate legal response\n",
        "  def generate_legal_response(self, query):\n",
        "    intent = self.classify_intent(query)\n",
        "    similar_cases = self.find_similar_cases(query)\n",
        "\n",
        "    response = {\n",
        "        'intent': intent,\n",
        "        'answer': '',\n",
        "        'similar_cases': similar_cases,\n",
        "        'legal_guidance': '',\n",
        "        'relevant_laws': []\n",
        "    }\n",
        "\n",
        "    # Generate response based on intent\n",
        "    if intent == 'greetings':\n",
        "        response['answer'] = \"Namaste! I'm your Indian Legal AI Assistant. I can help you understand Indian legal procedures, case precedents, and provide guidance on legal matters. How may I assist you today?\"\n",
        "\n",
        "    elif intent == 'case_inquiry':\n",
        "        response['answer'] = self.generate_case_analysis_response(query, similar_cases)\n",
        "        response['legal_guidance'] = self.extract_legal_guidance(similar_cases)\n",
        "\n",
        "    elif intent == 'procedure':\n",
        "        response['answer'] = self.generate_procedure_response(query, similar_cases)\n",
        "\n",
        "    elif intent == 'rights':\n",
        "        response['answer'] = self.generate_rights_response(query, similar_cases)\n",
        "\n",
        "    elif intent == 'court_info':\n",
        "        response['answer'] = self.generate_court_info_response(query, similar_cases)\n",
        "\n",
        "    else:\n",
        "        response['answer'] = self.generate_general_response(query, similar_cases)\n",
        "\n",
        "    return response\n",
        "\n",
        "\n",
        "  def generate_case_analysis_response(self, query, similar_cases):\n",
        "    if not similar_cases:\n",
        "      return \"I don't have enough information about this specific case. Could you provide more details?\"\n",
        "\n",
        "    top_case = similar_cases[0]['case']\n",
        "    similarity_score = similar_cases[0].get('similarity', 0)\n",
        "    response = f\"\"\"\n",
        "    📋 **Case Analysis:**\n",
        "    Based on similar cases in Indian courts, here's what I found:\n",
        "    **Similar Case:** {top_case.get('id', 'N/A')}\n",
        "    **Decision:** {top_case.get('decision', 'UNKNOWN')}\n",
        "    **Similarity Score:** {similarity_score:.3f}\n",
        "\n",
        "    **Case Text:**\n",
        "    {top_case.get('text', '')[:1000]}...\n",
        "    [Full length: {len(top_case.get('text', ''))} characters]\n",
        "    \"\"\"\n",
        "\n",
        "    # Add expert insights if available\n",
        "    if top_case.get('expert_1') is not None:\n",
        "        response += f\"\\n\\n**Expert Annotations Available:**\"\n",
        "        for expert_num in range(1, 6):  # Show all experts\n",
        "            expert_data = top_case.get(f'expert_{expert_num}')\n",
        "            if expert_data and isinstance(expert_data, dict) and 'rank1' in expert_data:\n",
        "                if expert_data['rank1']:\n",
        "                    response += f\"\\n   Expert {expert_num}: {expert_data['rank1'][0][:300]}...\"\n",
        "\n",
        "    return response\n",
        "\n",
        "  def generate_procedure_response(self, query, similar_cases):\n",
        "      return \"\"\"\n",
        "      ⚖️ **Legal Procedure Guidance:**\n",
        "      Based on Indian legal procedures and case precedents:\n",
        "\n",
        "      **General Steps:**\n",
        "      1. **Case Assessment** - Evaluate the legal merits of your case\n",
        "      2. **Documentation** - Gather all relevant documents and evidence\n",
        "      3. **Legal Consultation** - Consult with a qualified lawyer\n",
        "      4. **Court Filing** - File appropriate petition/application in competent court\n",
        "      5. **Service of Notice** - Serve notice to opposite parties\n",
        "      6. **Court Proceedings** - Attend hearings and follow court directions\n",
        "      7. **Judgment** - Await court's decision\n",
        "\n",
        "      **Important Notes:**\n",
        "      - Always consult a practicing lawyer for specific legal advice\n",
        "      - Time limitations apply for different types of cases\n",
        "      - Proper documentation is crucial for legal proceedings\n",
        "      \"\"\"\n",
        "\n",
        "  def generate_rights_response(self, query, similar_cases):\n",
        "      return \"\"\"\n",
        "      🛡️ **Legal Rights Information:**\n",
        "      **Fundamental Rights (Constitution of India):**\n",
        "      - Right to Equality (Articles 14-18)\n",
        "      - Right to Freedom (Articles 19-22)\n",
        "      - Right against Exploitation (Articles 23-24)\n",
        "      - Right to Freedom of Religion (Articles 25-28)\n",
        "      - Cultural and Educational Rights (Articles 29-30)\n",
        "      - Right to Constitutional Remedies (Article 32)\n",
        "\n",
        "      **Legal Rights:**\n",
        "      - Right to legal representation\n",
        "      - Right to fair trial\n",
        "      - Right to appeal\n",
        "      - Right to bail (in bailable offenses)\n",
        "      - Right to remain silent\n",
        "\n",
        "      **Note:** This is general information. Specific rights may vary based on circumstances and applicable laws.\n",
        "      \"\"\"\n",
        "\n",
        "  def generate_court_info_response(self, query, similar_cases):\n",
        "      return \"\"\"\n",
        "      🏛️ **Indian Court System:**\n",
        "      **Supreme Court of India:**\n",
        "      - Highest judicial authority\n",
        "      - Constitutional and appellate jurisdiction\n",
        "      - Located in New Delhi\n",
        "\n",
        "      **High Courts:**\n",
        "      - State-level highest courts\n",
        "      - Original and appellate jurisdiction\n",
        "      - 25 High Courts across India\n",
        "\n",
        "      **District Courts:**\n",
        "      - District-level courts\n",
        "      - Trial courts for most cases\n",
        "      - Civil and criminal jurisdiction\n",
        "\n",
        "      **Specialized Courts:**\n",
        "      - Family Courts, Consumer Courts, Labour Courts, Commercial Courts\n",
        "\n",
        "      **Jurisdiction:** File cases in the appropriate court based on case type, value, and geographical location.\n",
        "      \"\"\"\n",
        "\n",
        "  def generate_general_response(self, query, similar_cases):\n",
        "      if similar_cases:\n",
        "          top_case = similar_cases[0]['case']\n",
        "          return f\"\"\"\n",
        "          ⚖️ **Legal Information:**\n",
        "          Based on your query and similar cases in our database:\n",
        "\n",
        "          **Related Case Decision:** {top_case['decision']}\n",
        "\n",
        "          **General Legal Guidance:**\n",
        "          - Every legal matter is unique and requires careful analysis\n",
        "          - Indian legal system follows common law principles with statutory modifications\n",
        "          - Always seek professional legal advice for specific matters\n",
        "          - Document everything related to your legal issue\n",
        "          - Be aware of limitation periods for different types of legal actions\n",
        "\n",
        "          **Disclaimer:** This is general information only and not specific legal advice.\n",
        "          \"\"\"\n",
        "      else:\n",
        "          return \"\"\"\n",
        "          ⚖️ I'd be happy to help with your legal query! Could you provide more specific details about:\n",
        "          - The type of legal issue you're facing\n",
        "          - Relevant laws or sections you're concerned about\n",
        "          - The jurisdiction or court you're dealing with\n",
        "          - Any specific procedural questions you have\n",
        "\n",
        "          This will help me provide more targeted assistance based on Indian legal precedents and procedures.\n",
        "          \"\"\"\n",
        "\n",
        "\n",
        "  def extract_legal_guidance(self, similar_cases):\n",
        "      if not similar_cases:\n",
        "          return \"Consult with a qualified lawyer for specific legal advice.\"\n",
        "\n",
        "      guidance = []\n",
        "      for case in similar_cases[:2]:\n",
        "          case_info = case['case']\n",
        "          if case_info['decision'] == 'ACCEPTED':\n",
        "              guidance.append(\"Similar cases have been decided favorably\")\n",
        "          else:\n",
        "              guidance.append(\"Similar cases faced challenges - careful preparation needed\")\n",
        "\n",
        "      return '; '.join(guidance)\n"
      ],
      "metadata": {
        "id": "8_z4JOcQGboS"
      },
      "execution_count": null,
      "outputs": []
    },
    {
      "cell_type": "markdown",
      "source": [
        "## Initialise Assistant"
      ],
      "metadata": {
        "id": "tgdwW_SIPM5g"
      }
    },
    {
      "cell_type": "code",
      "source": [
        "print(\"Initialising Assistant\")\n",
        "legal_assistant = IndianLegalAssistant(legal_knowledge)\n",
        "print(\"done\")"
      ],
      "metadata": {
        "colab": {
          "base_uri": "https://localhost:8080/",
          "height": 153,
          "referenced_widgets": [
            "be1845baa0cc48ddb3377eda02ee4195",
            "7036364e6ed0426fa31f16a916065196",
            "40d234e909864785b0291ea226f16a38",
            "801199f829c049d0acf9ed33deb911f7",
            "02581845e8e345ea86f01fac393c3e9c",
            "94b9d38d247848da8ce0ff4cb26692fc",
            "acc93baa87fd4557864eac71b742004e",
            "7763ea75eae0462589eb79e62dcd64d1",
            "afb7dcd230ca4bda852e6888bb648e8a",
            "04c0b8f0bd894490b3cd1e268b0b1703",
            "81d0d6edd83e424aa7b609ef25f95147"
          ]
        },
        "id": "Z9bjanV-PUR3",
        "outputId": "1e9c3122-f7f1-4b73-c83a-9fd474354ae8"
      },
      "execution_count": null,
      "outputs": [
        {
          "output_type": "stream",
          "name": "stdout",
          "text": [
            "Initialising Assistant\n",
            "Device being used : cuda\n",
            "Loading model\n",
            "Preparing case embeddings\n"
          ]
        },
        {
          "output_type": "display_data",
          "data": {
            "text/plain": [
              "Batches:   0%|          | 0/332 [00:00<?, ?it/s]"
            ],
            "application/vnd.jupyter.widget-view+json": {
              "version_major": 2,
              "version_minor": 0,
              "model_id": "be1845baa0cc48ddb3377eda02ee4195"
            }
          },
          "metadata": {}
        },
        {
          "output_type": "stream",
          "name": "stdout",
          "text": [
            "Prepared 42465 case embeddings\n",
            "done\n"
          ]
        }
      ]
    },
    {
      "cell_type": "markdown",
      "source": [
        "## Save Model"
      ],
      "metadata": {
        "id": "v_KJC7z5Pu0f"
      }
    },
    {
      "cell_type": "code",
      "source": [
        "def save_model_files():\n",
        "  # Create directory\n",
        "  os.makedirs('legal_ai_deployment', exist_ok=True)\n",
        "  # save model\n",
        "  print(\"Saving model\")\n",
        "  legal_assistant.sentence_model.save('legal_ai_deployment/sentence_model')\n",
        "\n",
        "  # save faiss\n",
        "  print(\"Saving faiss\")\n",
        "  faiss.write_index(legal_assistant.faiss_index, 'legal_ai_deployment/legal_cases.faiss')\n",
        "\n",
        "  # save case embeddings\n",
        "  print(\"Saving case embeddings\")\n",
        "  np.save('legal_ai_deployment/case_embeddings.npy', legal_assistant.case_embeddings)\n",
        "\n",
        "  # saving knowledge base\n",
        "  print(\"Saving Knowledge Base\")\n",
        "  with open('legal_ai_deployment/knowledge_base.pkl', 'wb') as f:\n",
        "    pickle.dump(legal_knowledge, f)\n",
        "\n",
        "  print(\"Done\")\n",
        "\n",
        "  # save legal patterns and metadata\n",
        "  print(\"Saving legal patterns\")\n",
        "  metadata = {\n",
        "      'legal_patterns': legal_assistant.legal_patterns,\n",
        "      'model_info': {\n",
        "          # 'sentence_model': 'all-mpnet-base-v2',\n",
        "          'sentence_model': 'all-MiniLM-L6-v2',\n",
        "          'embedding_dim': legal_assistant.case_embeddings.shape[1],\n",
        "          'total_cases': len(legal_knowledge['case_summaries']),\n",
        "          'faiss_index_type': 'IndexFlatIP'\n",
        "      },\n",
        "      'created_at': datetime.now().isoformat()\n",
        "  }\n",
        "  with open('legal_ai_deployment/metadata.json', 'w') as f:\n",
        "      json.dump(metadata, f, indent=2)"
      ],
      "metadata": {
        "id": "8FQ6QGGZS8bX"
      },
      "execution_count": null,
      "outputs": []
    },
    {
      "cell_type": "markdown",
      "source": [
        "## Execute Model saving"
      ],
      "metadata": {
        "id": "66x_XbeUTLlp"
      }
    },
    {
      "cell_type": "code",
      "source": [
        "save_model_files()"
      ],
      "metadata": {
        "colab": {
          "base_uri": "https://localhost:8080/"
        },
        "id": "JsAlReb_TViI",
        "outputId": "594c99ec-bcd0-48bc-9d18-eaf12514aa38"
      },
      "execution_count": null,
      "outputs": [
        {
          "output_type": "stream",
          "name": "stdout",
          "text": [
            "Saving model\n",
            "Saving faiss\n",
            "Saving case embeddings\n",
            "Saving Knowledge Base\n",
            "Done\n",
            "Saving legal patterns\n"
          ]
        }
      ]
    },
    {
      "cell_type": "markdown",
      "source": [
        "## Chat Interface"
      ],
      "metadata": {
        "id": "NhPeoZaPTany"
      }
    },
    {
      "cell_type": "code",
      "source": [
        "def chat_with_legal_assistant():\n",
        "  print(\"\\nAI ASSISTANT CHAT (type 'quit' to exit)\")\n",
        "  while True:\n",
        "    try:\n",
        "      user_query = input(\"You: \").strip()\n",
        "      if user_query.lower() in ['quit', 'exit', 'bye']:\n",
        "        print(\"Goodbye!\")\n",
        "        break\n",
        "      if user_query.lower() == 'help':\n",
        "        print(\"Ask about legal procedures, rights, courts, or cases. Type 'quit' to exit.\")\n",
        "        continue\n",
        "      if not user_query:\n",
        "        print(\"Please enter a legal question.\")\n",
        "        continue\n",
        "      response = legal_assistant.generate_legal_response(user_query)\n",
        "      print(f\"\\nAI: {response['answer']}\")\n",
        "      if response['legal_guidance']:\n",
        "        print(f\"Guidance: {response['legal_guidance']}\")\n",
        "    except KeyboardInterrupt:\n",
        "      print(\"\\nGoodbye!\")\n",
        "      break\n",
        "    except Exception as e:\n",
        "      print(f\"Error: {e}\")"
      ],
      "metadata": {
        "id": "IieWm_2UTez_"
      },
      "execution_count": null,
      "outputs": []
    },
    {
      "cell_type": "markdown",
      "source": [
        "## Test the Assistant"
      ],
      "metadata": {
        "id": "07fqoirDUVWo"
      }
    },
    {
      "cell_type": "code",
      "source": [
        "print(\"\\nTesting Indian Legal AI Assistant...\")\n",
        "test_queries = [\n",
        "    \"Hello, I need help with a legal matter\",\n",
        "    \"How do I file an appeal in High Court?\",\n",
        "    \"What are my fundamental rights?\",\n",
        "    \"I have a property dispute with my neighbor\",\n",
        "    \"Which court should I approach for a contract dispute?\"\n",
        "]\n",
        "for i, query in enumerate(test_queries, 1):\n",
        "  response = legal_assistant.generate_legal_response(query)\n",
        "  print(f\"Test {i}: {query}\\n  AI: {response['answer'][:100]}...\\n  Intent: {response['intent']}\")"
      ],
      "metadata": {
        "colab": {
          "base_uri": "https://localhost:8080/"
        },
        "id": "EAzF83lkUXkR",
        "outputId": "1fa7319e-8ebe-4e6b-fd86-e40628ffd6d8"
      },
      "execution_count": null,
      "outputs": [
        {
          "output_type": "stream",
          "name": "stdout",
          "text": [
            "\n",
            "Testing Indian Legal AI Assistant...\n",
            "Test 1: Hello, I need help with a legal matter\n",
            "  AI: \n",
            "    📋 **Case Analysis:**\n",
            "    Based on similar cases in Indian courts, here's what I found:\n",
            "    **Si...\n",
            "  Intent: case_inquiry\n",
            "Test 2: How do I file an appeal in High Court?\n",
            "  AI: \n",
            "      ⚖️ **Legal Procedure Guidance:**\n",
            "      Based on Indian legal procedures and case precedents:\n",
            "...\n",
            "  Intent: procedure\n",
            "Test 3: What are my fundamental rights?\n",
            "  AI: \n",
            "      🛡️ **Legal Rights Information:**\n",
            "      **Fundamental Rights (Constitution of India):**\n",
            "      ...\n",
            "  Intent: rights\n",
            "Test 4: I have a property dispute with my neighbor\n",
            "  AI: \n",
            "    📋 **Case Analysis:**\n",
            "    Based on similar cases in Indian courts, here's what I found:\n",
            "    **Si...\n",
            "  Intent: case_inquiry\n",
            "Test 5: Which court should I approach for a contract dispute?\n",
            "  AI: \n",
            "    📋 **Case Analysis:**\n",
            "    Based on similar cases in Indian courts, here's what I found:\n",
            "    **Si...\n",
            "  Intent: case_inquiry\n"
          ]
        }
      ]
    },
    {
      "cell_type": "markdown",
      "source": [
        "## Custom input"
      ],
      "metadata": {
        "id": "cROdzGjYcgFT"
      }
    },
    {
      "cell_type": "code",
      "source": [
        "print(\"\\nCustom Query Mode: AI Assistant (type 'quit' to exit)\")\n",
        "while True:\n",
        "  user_query = input(\"You: \").strip()\n",
        "  if user_query.lower() in ['quit', 'exit', 'bye']:\n",
        "    print(\"Goodbye!\")\n",
        "    break\n",
        "  if not user_query:\n",
        "    print(\"Please enter a legal question.\")\n",
        "    continue\n",
        "  response = legal_assistant.generate_legal_response(user_query)\n",
        "  print(f\"\\nAI: {response['answer']}\")\n",
        "  if response['legal_guidance']:\n",
        "    print(f\"Guidance: {response['legal_guidance']}\")\n",
        "  print(f\"Intent: {response['intent']}\")"
      ],
      "metadata": {
        "colab": {
          "base_uri": "https://localhost:8080/"
        },
        "id": "cZ4K59iicjrC",
        "outputId": "82ed6a85-206a-40c4-b292-0a75be9a7f96"
      },
      "execution_count": null,
      "outputs": [
        {
          "output_type": "stream",
          "name": "stdout",
          "text": [
            "\n",
            "Custom Query Mode: AI Assistant (type 'quit' to exit)\n",
            "You: i had a fight\n",
            "\n",
            "AI: \n",
            "          ⚖️ **Legal Information:**\n",
            "          Based on your query and similar cases in our database:\n",
            "\n",
            "          **Related Case Decision:** ACCEPTED\n",
            "\n",
            "          **General Legal Guidance:**\n",
            "          - Every legal matter is unique and requires careful analysis\n",
            "          - Indian legal system follows common law principles with statutory modifications\n",
            "          - Always seek professional legal advice for specific matters\n",
            "          - Document everything related to your legal issue\n",
            "          - Be aware of limitation periods for different types of legal actions\n",
            "\n",
            "          **Disclaimer:** This is general information only and not specific legal advice.\n",
            "          \n",
            "Intent: general_legal\n",
            "You: quit\n",
            "Goodbye!\n"
          ]
        }
      ]
    },
    {
      "cell_type": "markdown",
      "source": [
        "## Debug"
      ],
      "metadata": {
        "id": "xAeWLwludUxw"
      }
    },
    {
      "cell_type": "code",
      "source": [
        "print(\"\\nDEBUG MODE: Inspect Embeddings and Retrieval (type 'quit' to exit)\")\n",
        "while True:\n",
        "    debug_query = input(\"Debug Query: \").strip()\n",
        "    if debug_query.lower() in ['quit', 'exit', 'bye']:\n",
        "        print(\"Exiting debug mode.\")\n",
        "        break\n",
        "    if not debug_query:\n",
        "        print(\"Please enter a query.\")\n",
        "        continue\n",
        "    query_embedding = legal_assistant.sentence_model.encode([debug_query])\n",
        "    print(f\"Query embedding shape: {query_embedding.shape}, dtype: {query_embedding.dtype}\")\n",
        "    print(f\"Case embeddings shape: {legal_assistant.case_embeddings.shape}, dtype: {legal_assistant.case_embeddings.dtype}\")\n",
        "    print(f\"FAISS index is trained: {getattr(legal_assistant.faiss_index, 'is_trained', 'N/A')}\")\n",
        "    print(f\"FAISS index ntotal: {legal_assistant.faiss_index.ntotal}\")\n",
        "    scores, indices = legal_assistant.faiss_index.search(query_embedding.astype('float32'), 3)\n",
        "    print(\"Top 3 similar cases:\")\n",
        "    for i, idx in enumerate(indices[0]):\n",
        "        case = legal_assistant.knowledge_base['case_summaries'][idx]\n",
        "        print(f\"  Rank {i+1}: ID={case['id']}, Score={scores[0][i]:.4f}\")\n",
        "        print(f\"    Preview: {case['text'][:200]}...\\n\")"
      ],
      "metadata": {
        "colab": {
          "base_uri": "https://localhost:8080/"
        },
        "id": "SEC2-hJ7dWbQ",
        "outputId": "b1801d34-0909-4767-dc48-120c2f5203b7"
      },
      "execution_count": null,
      "outputs": [
        {
          "output_type": "stream",
          "name": "stdout",
          "text": [
            "\n",
            "DEBUG MODE: Inspect Embeddings and Retrieval (type 'quit' to exit)\n",
            "Debug Query: i had a fight\n",
            "Query embedding shape: (1, 384), dtype: float32\n",
            "Case embeddings shape: (42465, 384), dtype: float32\n",
            "FAISS index is trained: True\n",
            "FAISS index ntotal: 42465\n",
            "Top 3 similar cases:\n",
            "  Rank 1: ID=1998_129, Score=0.2337\n",
            "    Preview: Thomas, J. In this case of uxoricide the husband was found guilty by the Sessions Court but the High Court found him number guilty and acquitted him. That judgment of the High Court is in challenge in...\n",
            "\n",
            "  Rank 2: ID=1975_219, Score=0.2258\n",
            "    Preview:  N. Bhagwati, J. This appeal, by special leave, arises out of an internecine fight between two brothers and their respective families. The deceased Kana and Birdha were brothers and they had fields ad...\n",
            "\n",
            "  Rank 3: ID=1987_480, Score=0.2118\n",
            "    Preview: CIVIL APPELLATE JURISDICTION Civil Appeal Nos. 2780-81 of 1982 From the Judgment and Order dated 11.6. 1982 of the Karnataka High Court in Writ Petition No.3386 and 3387 of 1981 S. Cooper, Dr. Y.S. Ch...\n",
            "\n",
            "Debug Query: quit\n",
            "Exiting debug mode.\n"
          ]
        }
      ]
    },
    {
      "cell_type": "markdown",
      "source": [
        "## Experiment with Groq"
      ],
      "metadata": {
        "id": "-Z5a6SXpjtlN"
      }
    },
    {
      "cell_type": "code",
      "source": [
        "!pip install groq"
      ],
      "metadata": {
        "collapsed": true,
        "colab": {
          "base_uri": "https://localhost:8080/"
        },
        "id": "gLSkSeX-j4gz",
        "outputId": "029013ac-70ba-43e9-d43f-30f6751673a5"
      },
      "execution_count": null,
      "outputs": [
        {
          "output_type": "stream",
          "name": "stdout",
          "text": [
            "Collecting groq\n",
            "  Downloading groq-0.25.0-py3-none-any.whl.metadata (15 kB)\n",
            "Requirement already satisfied: anyio<5,>=3.5.0 in /usr/local/lib/python3.11/dist-packages (from groq) (4.9.0)\n",
            "Requirement already satisfied: distro<2,>=1.7.0 in /usr/local/lib/python3.11/dist-packages (from groq) (1.9.0)\n",
            "Requirement already satisfied: httpx<1,>=0.23.0 in /usr/local/lib/python3.11/dist-packages (from groq) (0.28.1)\n",
            "Requirement already satisfied: pydantic<3,>=1.9.0 in /usr/local/lib/python3.11/dist-packages (from groq) (2.11.4)\n",
            "Requirement already satisfied: sniffio in /usr/local/lib/python3.11/dist-packages (from groq) (1.3.1)\n",
            "Requirement already satisfied: typing-extensions<5,>=4.10 in /usr/local/lib/python3.11/dist-packages (from groq) (4.13.2)\n",
            "Requirement already satisfied: idna>=2.8 in /usr/local/lib/python3.11/dist-packages (from anyio<5,>=3.5.0->groq) (3.10)\n",
            "Requirement already satisfied: certifi in /usr/local/lib/python3.11/dist-packages (from httpx<1,>=0.23.0->groq) (2025.4.26)\n",
            "Requirement already satisfied: httpcore==1.* in /usr/local/lib/python3.11/dist-packages (from httpx<1,>=0.23.0->groq) (1.0.9)\n",
            "Requirement already satisfied: h11>=0.16 in /usr/local/lib/python3.11/dist-packages (from httpcore==1.*->httpx<1,>=0.23.0->groq) (0.16.0)\n",
            "Requirement already satisfied: annotated-types>=0.6.0 in /usr/local/lib/python3.11/dist-packages (from pydantic<3,>=1.9.0->groq) (0.7.0)\n",
            "Requirement already satisfied: pydantic-core==2.33.2 in /usr/local/lib/python3.11/dist-packages (from pydantic<3,>=1.9.0->groq) (2.33.2)\n",
            "Requirement already satisfied: typing-inspection>=0.4.0 in /usr/local/lib/python3.11/dist-packages (from pydantic<3,>=1.9.0->groq) (0.4.0)\n",
            "Downloading groq-0.25.0-py3-none-any.whl (129 kB)\n",
            "\u001b[?25l   \u001b[90m━━━━━━━━━━━━━━━━━━━━━━━━━━━━━━━━━━━━━━━━\u001b[0m \u001b[32m0.0/129.4 kB\u001b[0m \u001b[31m?\u001b[0m eta \u001b[36m-:--:--\u001b[0m\r\u001b[2K   \u001b[90m━━━━━━━━━━━━━━━━━━━━━━━━━━━━━━━━━━━━━━━━\u001b[0m \u001b[32m129.4/129.4 kB\u001b[0m \u001b[31m11.9 MB/s\u001b[0m eta \u001b[36m0:00:00\u001b[0m\n",
            "\u001b[?25hInstalling collected packages: groq\n",
            "Successfully installed groq-0.25.0\n"
          ]
        }
      ]
    },
    {
      "cell_type": "code",
      "source": [
        "from groq import Groq\n",
        "groq_client = Groq(api_key=\"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\")\n",
        "\n",
        "def get_enhanced_legal_response(query):\n",
        "    # Get relevant cases using existing RAG system\n",
        "    response = legal_assistant.generate_legal_response(query)\n",
        "    similar_cases = legal_assistant.find_similar_cases(query, top_k=3)\n",
        "\n",
        "    # Prepare context from similar cases\n",
        "    case_context = \"\\n\\n\".join([\n",
        "        f\"Case {i+1}:\\nID: {case['case']['id']}\\n\"\n",
        "        f\"Decision: {case['case']['decision']}\\n\"\n",
        "        f\"Summary: {case['case']['text'][:500]}...\"\n",
        "        for i, case in enumerate(similar_cases)\n",
        "    ])\n",
        "\n",
        "    # Prepare prompt for Groq\n",
        "    messages = [\n",
        "        {\"role\": \"system\", \"content\": \"\"\"You are an expert Indian legal assistant. Using the provided case precedents\n",
        "        and legal context, provide detailed, professional legal guidance. Always include:\n",
        "        1. Analysis of similar cases\n",
        "        2. Potential legal approaches\n",
        "        3. Practical next steps\n",
        "        4. Important considerations\n",
        "        5. Relevant legal principles\n",
        "        Always end with a disclaimer about consulting a qualified lawyer.\"\"\"},\n",
        "\n",
        "        {\"role\": \"user\", \"content\": f\"\"\"Based on the following similar cases and the user's query,\n",
        "        provide comprehensive legal guidance:\n",
        "\n",
        "        User Query: {query}\n",
        "\n",
        "        Relevant Case Precedents:\n",
        "        {case_context}\n",
        "\n",
        "        Please provide a detailed response in a clear, professional format.\"\"\"}\n",
        "    ]\n",
        "\n",
        "    # Get enhanced response from Groq\n",
        "    try:\n",
        "        completion = groq_client.chat.completions.create(\n",
        "            model=\"qwen-qwq-32b\",\n",
        "            messages=messages,\n",
        "            temperature=0.6,\n",
        "            max_completion_tokens=4096,\n",
        "            top_p=0.95,\n",
        "            stream=True,\n",
        "            stop=None\n",
        "        )\n",
        "\n",
        "        # Collect the streamed response\n",
        "        enhanced_response = \"\"\n",
        "        print(\"\\nEnhanced Legal Analysis:\")\n",
        "        for chunk in completion:\n",
        "            content = chunk.choices[0].delta.content or \"\"\n",
        "            enhanced_response += content\n",
        "            print(content, end=\"\")\n",
        "\n",
        "        return enhanced_response\n",
        "\n",
        "    except Exception as e:\n",
        "        print(f\"\\nError generating enhanced response: {e}\")\n",
        "        return response['answer']  # Fallback to original response\n",
        "\n",
        "print(\"\\nEnhanced Legal Assistant Mode (type 'quit' to exit)\")\n",
        "while True:\n",
        "    user_query = input(\"\\nYou: \").strip()\n",
        "    if user_query.lower() in ['quit', 'exit', 'bye']:\n",
        "        print(\"Goodbye!\")\n",
        "        break\n",
        "    if not user_query:\n",
        "        print(\"Please enter a legal question.\")\n",
        "        continue\n",
        "\n",
        "    enhanced_response = get_enhanced_legal_response(user_query)\n",
        "    print(f\"\\nAI: {enhanced_response}\")"
      ],
      "metadata": {
        "colab": {
          "base_uri": "https://localhost:8080/"
        },
        "id": "pa1F_SCwjwiP",
        "outputId": "986974b4-7102-4d54-8abe-faef0d8610bf"
      },
      "execution_count": null,
      "outputs": [
        {
          "output_type": "stream",
          "name": "stdout",
          "text": [
            "\n",
            "Enhanced Legal Assistant Mode (type 'quit' to exit)\n",
            "\n",
            "You: i had a fight\n",
            "\n",
            "Enhanced Legal Analysis:\n",
            "\n",
            "<think>\n",
            "Okay, so I need to help the user who mentioned they had a fight. Let me look at the cases provided first. \n",
            "\n",
            "Case 1 (1998_129) is about uxoricide where the husband was acquitted. The fight between spouses led to the wife's death, but the court acquitted him. That's about criminal liability in domestic disputes.\n",
            "\n",
            "Case 2 (1975_219) involves a family feud between brothers over a mud wall. The Supreme Court here might have dealt with criminal charges from the fight, but the summary isn't detailed. It's about property disputes leading to violence.\n",
            "\n",
            "Case 3 (1987_480) was rejected, but it's a civil case about Bangalore's beautification. Not directly related to fights, so maybe not relevant here.\n",
            "\n",
            "The user's query is just \"I had a fight.\" They might be facing legal issues from a physical altercation. I need to outline possible legal approaches based on Indian law. \n",
            "\n",
            "First, analyze the nature of the fight. Was it criminal (like assault) or civil (property dispute)? The cases show that intent and provocation matter. In Case 1, the husband was acquitted, possibly due to lack of evidence or provocation. So, if the user's case involves self-defense or insufficient evidence, that's a point.\n",
            "\n",
            "Potential legal approaches: Criminal charges under IPC sections like 323 (voluntarily causing injury), 324 (using dangerous weapons), or 325 (grievous hurt). If it's mutual fight, maybe both parties are liable. Also, domestic violence under DV Act 2005 if it's between spouses or family.\n",
            "\n",
            "Next steps: If they're accused, they should consult a lawyer, file a police report if they were victims, collect evidence like medical reports, witnesses, CCTV. If it's a civil matter like property dispute, mediation might help.\n",
            "\n",
            "Important considerations: Burden of proof on the prosecution in criminal cases. Self-defense is a valid defense if they acted to protect themselves. Also, Section 94 of IPC on acts done in unavoidable accident might apply if it was an accident during a fight.\n",
            "\n",
            "Wait, the user didn't specify if they were the aggressor or victim. Need to mention both possibilities. Also, if it's a family fight, domestic violence laws are crucial. The cases show that outcomes depend on evidence and context. The rejected case might not be relevant here, but the others highlight acquittal based on evidence gaps.\n",
            "\n",
            "So, structure the answer with analysis of similar cases, legal approaches (IPC sections, defenses), next steps (reporting, lawyer consultation), considerations (burden of proof, self-defense), and principles (right to life, fair trial). End with a disclaimer.\n",
            "</think>\n",
            "\n",
            "**Comprehensive Legal Guidance on the User's Query Regarding a Fight**  \n",
            "\n",
            "---\n",
            "\n",
            "### **1. Analysis of Similar Cases**  \n",
            "The provided cases highlight key principles relevant to disputes involving fights or altercations:  \n",
            "- **Case 1 (1998_129: Uxoricide Case)**:  \n",
            "  - **Context**: A domestic dispute leading to the wife’s death. The High Court acquitted the accused due to insufficient evidence or lack of intent.  \n",
            "  - **Key Takeaway**: Courts scrutinize evidence rigorously, and acquittal is possible if the prosecution fails to prove guilt beyond reasonable doubt. Provocation or mitigating circumstances (e.g., marital discord) may influence outcomes.  \n",
            "\n",
            "- **Case 2 (1975_219: Property Dispute Turned Violent)**:  \n",
            "  - **Context**: A family feud over property boundaries escalated into violence.  \n",
            "  - **Key Takeaway**: Property disputes can lead to criminal charges (e.g., assault, rioting), but outcomes depend on intent, provocation, and the severity of injuries.  \n",
            "\n",
            "- **Case 3 (1987_480: Civil Dispute Rejected)**:  \n",
            "  - **Context**: A rejected civil appeal unrelated to violence but emphasizing judicial scrutiny of evidence.  \n",
            "  - **Key Takeaway**: Courts demand robust evidence, especially in criminal matters.  \n",
            "\n",
            "---\n",
            "\n",
            "### **2. Potential Legal Approaches**  \n",
            "The user’s query is brief, but assuming the \"fight\" could lead to criminal or civil liability, the following legal frameworks apply:  \n",
            "\n",
            "#### **A. Criminal Liability Under the Indian Penal Code (IPC)**:  \n",
            "- **Sections 323, 324, or 325 IPC**: Applicable for voluntarily causing hurt (simple or grievous) or using dangerous weapons.  \n",
            "- **Section 149 IPC (Rioting)**: If the fight involved a group.  \n",
            "- **Section 304 Part I IPC (Culpable Homicide)**: If death results.  \n",
            "\n",
            "#### **B. Civil Liability**:  \n",
            "- **Negligence or Torts**: Compensation claims under tort law for injuries or property damage.  \n",
            "- **Family/Matrimonial Disputes**: The **Protection of Women from Domestic Violence Act, 2005** if the fight occurred in a domestic context.  \n",
            "\n",
            "#### **C. Defenses Available**:  \n",
            "- **Self-Defense (Section 96 IPC)**: If the fight was a reaction to an immediate threat.  \n",
            "- **Act in Good Faith (Section 76 IPC)**: If the act was accidental and unintentional.  \n",
            "- **Necessity (Section 81 IPC)**: If harm was unavoidable to prevent greater harm.  \n",
            "\n",
            "---\n",
            "\n",
            "### **3. Practical Next Steps**  \n",
            "1. **Immediate Actions**:  \n",
            "   - If injured, **report the incident to the police** under Section 154 CrPC to file an FIR.  \n",
            "   - Preserve evidence: medical records, witness statements, CCTV footage, or photographs.  \n",
            "\n",
            "2. **Consult Legal Counsel**:  \n",
            "   - A lawyer can assess liability, draft legal notices, or negotiate out-of-court settlements.  \n",
            "\n",
            "3. **Mediation/Alternative Dispute Resolution (ADR)**:  \n",
            "   - For non-criminal disputes (e.g., property or family feuds), mediation can resolve conflicts without litigation.  \n",
            "\n",
            "4. **File a Civil Suit**:  \n",
            "   - If seeking compensation for injuries or property damage, file a civil suit under the **Civil Procedure Code (CPC)**.  \n",
            "\n",
            "---\n",
            "\n",
            "### **4. Important Considerations**  \n",
            "- **Burden of Proof**: In criminal cases, the prosecution must prove guilt beyond reasonable doubt.  \n",
            "- **Provocation and Mitigating Circumstances**: Courts may consider if the fight arose from prolonged disputes (e.g., marital issues in Case 1) or property disagreements (Case 2).  \n",
            "- **Right to Fair Trial**: Ensure procedural compliance (e.g., proper FIR registration, adherence to criminal procedure).  \n",
            "\n",
            "---\n",
            "\n",
            "### **5. Relevant Legal Principles**  \n",
            "- **Right to Life (Article 21 of the Constitution)**: Protects against unlawful harm to person or property.  \n",
            "- **Fair Trial (Article 21)**: Ensures the accused is presumed innocent until proven guilty.  \n",
            "- **Principle of Legality**: All actions must comply with statutory provisions (IPC, CrPC).  \n",
            "\n",
            "---\n",
            "\n",
            "### **6. Recommendations**  \n",
            "- **If Accused**:  \n",
            "  - Do not admit guilt without legal advice.  \n",
            "  - Highlight defenses such as self-defense, accident, or lack of intent.  \n",
            "\n",
            "- **If Victim**:  \n",
            "  - File an FIR immediately and pursue compensation via civil remedies.  \n",
            "\n",
            "- **Documentation**: Maintain records of medical reports, police statements, and witness testimonies.  \n",
            "\n",
            "---\n",
            "\n",
            "### **Disclaimer**  \n",
            "This guidance is general and not a substitute for personalized legal advice. Consult a qualified lawyer for case-specific strategies, as outcomes depend on factual nuances, evidence, and jurisdictional practices.  \n",
            "\n",
            "**Proceed with caution and seek professional legal counsel promptly.**  \n",
            "\n",
            "---  \n",
            "*Note: The above analysis is based on the provided cases and general Indian law. Always verify current laws and judicial precedents with a legal professional.*\n",
            "AI: \n",
            "<think>\n",
            "Okay, so I need to help the user who mentioned they had a fight. Let me look at the cases provided first. \n",
            "\n",
            "Case 1 (1998_129) is about uxoricide where the husband was acquitted. The fight between spouses led to the wife's death, but the court acquitted him. That's about criminal liability in domestic disputes.\n",
            "\n",
            "Case 2 (1975_219) involves a family feud between brothers over a mud wall. The Supreme Court here might have dealt with criminal charges from the fight, but the summary isn't detailed. It's about property disputes leading to violence.\n",
            "\n",
            "Case 3 (1987_480) was rejected, but it's a civil case about Bangalore's beautification. Not directly related to fights, so maybe not relevant here.\n",
            "\n",
            "The user's query is just \"I had a fight.\" They might be facing legal issues from a physical altercation. I need to outline possible legal approaches based on Indian law. \n",
            "\n",
            "First, analyze the nature of the fight. Was it criminal (like assault) or civil (property dispute)? The cases show that intent and provocation matter. In Case 1, the husband was acquitted, possibly due to lack of evidence or provocation. So, if the user's case involves self-defense or insufficient evidence, that's a point.\n",
            "\n",
            "Potential legal approaches: Criminal charges under IPC sections like 323 (voluntarily causing injury), 324 (using dangerous weapons), or 325 (grievous hurt). If it's mutual fight, maybe both parties are liable. Also, domestic violence under DV Act 2005 if it's between spouses or family.\n",
            "\n",
            "Next steps: If they're accused, they should consult a lawyer, file a police report if they were victims, collect evidence like medical reports, witnesses, CCTV. If it's a civil matter like property dispute, mediation might help.\n",
            "\n",
            "Important considerations: Burden of proof on the prosecution in criminal cases. Self-defense is a valid defense if they acted to protect themselves. Also, Section 94 of IPC on acts done in unavoidable accident might apply if it was an accident during a fight.\n",
            "\n",
            "Wait, the user didn't specify if they were the aggressor or victim. Need to mention both possibilities. Also, if it's a family fight, domestic violence laws are crucial. The cases show that outcomes depend on evidence and context. The rejected case might not be relevant here, but the others highlight acquittal based on evidence gaps.\n",
            "\n",
            "So, structure the answer with analysis of similar cases, legal approaches (IPC sections, defenses), next steps (reporting, lawyer consultation), considerations (burden of proof, self-defense), and principles (right to life, fair trial). End with a disclaimer.\n",
            "</think>\n",
            "\n",
            "**Comprehensive Legal Guidance on the User's Query Regarding a Fight**  \n",
            "\n",
            "---\n",
            "\n",
            "### **1. Analysis of Similar Cases**  \n",
            "The provided cases highlight key principles relevant to disputes involving fights or altercations:  \n",
            "- **Case 1 (1998_129: Uxoricide Case)**:  \n",
            "  - **Context**: A domestic dispute leading to the wife’s death. The High Court acquitted the accused due to insufficient evidence or lack of intent.  \n",
            "  - **Key Takeaway**: Courts scrutinize evidence rigorously, and acquittal is possible if the prosecution fails to prove guilt beyond reasonable doubt. Provocation or mitigating circumstances (e.g., marital discord) may influence outcomes.  \n",
            "\n",
            "- **Case 2 (1975_219: Property Dispute Turned Violent)**:  \n",
            "  - **Context**: A family feud over property boundaries escalated into violence.  \n",
            "  - **Key Takeaway**: Property disputes can lead to criminal charges (e.g., assault, rioting), but outcomes depend on intent, provocation, and the severity of injuries.  \n",
            "\n",
            "- **Case 3 (1987_480: Civil Dispute Rejected)**:  \n",
            "  - **Context**: A rejected civil appeal unrelated to violence but emphasizing judicial scrutiny of evidence.  \n",
            "  - **Key Takeaway**: Courts demand robust evidence, especially in criminal matters.  \n",
            "\n",
            "---\n",
            "\n",
            "### **2. Potential Legal Approaches**  \n",
            "The user’s query is brief, but assuming the \"fight\" could lead to criminal or civil liability, the following legal frameworks apply:  \n",
            "\n",
            "#### **A. Criminal Liability Under the Indian Penal Code (IPC)**:  \n",
            "- **Sections 323, 324, or 325 IPC**: Applicable for voluntarily causing hurt (simple or grievous) or using dangerous weapons.  \n",
            "- **Section 149 IPC (Rioting)**: If the fight involved a group.  \n",
            "- **Section 304 Part I IPC (Culpable Homicide)**: If death results.  \n",
            "\n",
            "#### **B. Civil Liability**:  \n",
            "- **Negligence or Torts**: Compensation claims under tort law for injuries or property damage.  \n",
            "- **Family/Matrimonial Disputes**: The **Protection of Women from Domestic Violence Act, 2005** if the fight occurred in a domestic context.  \n",
            "\n",
            "#### **C. Defenses Available**:  \n",
            "- **Self-Defense (Section 96 IPC)**: If the fight was a reaction to an immediate threat.  \n",
            "- **Act in Good Faith (Section 76 IPC)**: If the act was accidental and unintentional.  \n",
            "- **Necessity (Section 81 IPC)**: If harm was unavoidable to prevent greater harm.  \n",
            "\n",
            "---\n",
            "\n",
            "### **3. Practical Next Steps**  \n",
            "1. **Immediate Actions**:  \n",
            "   - If injured, **report the incident to the police** under Section 154 CrPC to file an FIR.  \n",
            "   - Preserve evidence: medical records, witness statements, CCTV footage, or photographs.  \n",
            "\n",
            "2. **Consult Legal Counsel**:  \n",
            "   - A lawyer can assess liability, draft legal notices, or negotiate out-of-court settlements.  \n",
            "\n",
            "3. **Mediation/Alternative Dispute Resolution (ADR)**:  \n",
            "   - For non-criminal disputes (e.g., property or family feuds), mediation can resolve conflicts without litigation.  \n",
            "\n",
            "4. **File a Civil Suit**:  \n",
            "   - If seeking compensation for injuries or property damage, file a civil suit under the **Civil Procedure Code (CPC)**.  \n",
            "\n",
            "---\n",
            "\n",
            "### **4. Important Considerations**  \n",
            "- **Burden of Proof**: In criminal cases, the prosecution must prove guilt beyond reasonable doubt.  \n",
            "- **Provocation and Mitigating Circumstances**: Courts may consider if the fight arose from prolonged disputes (e.g., marital issues in Case 1) or property disagreements (Case 2).  \n",
            "- **Right to Fair Trial**: Ensure procedural compliance (e.g., proper FIR registration, adherence to criminal procedure).  \n",
            "\n",
            "---\n",
            "\n",
            "### **5. Relevant Legal Principles**  \n",
            "- **Right to Life (Article 21 of the Constitution)**: Protects against unlawful harm to person or property.  \n",
            "- **Fair Trial (Article 21)**: Ensures the accused is presumed innocent until proven guilty.  \n",
            "- **Principle of Legality**: All actions must comply with statutory provisions (IPC, CrPC).  \n",
            "\n",
            "---\n",
            "\n",
            "### **6. Recommendations**  \n",
            "- **If Accused**:  \n",
            "  - Do not admit guilt without legal advice.  \n",
            "  - Highlight defenses such as self-defense, accident, or lack of intent.  \n",
            "\n",
            "- **If Victim**:  \n",
            "  - File an FIR immediately and pursue compensation via civil remedies.  \n",
            "\n",
            "- **Documentation**: Maintain records of medical reports, police statements, and witness testimonies.  \n",
            "\n",
            "---\n",
            "\n",
            "### **Disclaimer**  \n",
            "This guidance is general and not a substitute for personalized legal advice. Consult a qualified lawyer for case-specific strategies, as outcomes depend on factual nuances, evidence, and jurisdictional practices.  \n",
            "\n",
            "**Proceed with caution and seek professional legal counsel promptly.**  \n",
            "\n",
            "---  \n",
            "*Note: The above analysis is based on the provided cases and general Indian law. Always verify current laws and judicial precedents with a legal professional.*\n",
            "\n",
            "You: quit\n",
            "Goodbye!\n"
          ]
        }
      ]
    },
    {
      "cell_type": "markdown",
      "source": [
        "## Zip/Download Model"
      ],
      "metadata": {
        "id": "n6Pm_RlCvytM"
      }
    },
    {
      "cell_type": "code",
      "source": [
        "!zip -r legal_ai_deployment.zip legal_ai_deployment/\n"
      ],
      "metadata": {
        "colab": {
          "base_uri": "https://localhost:8080/"
        },
        "id": "vzad1J6fv2ED",
        "outputId": "4b88a246-0b65-47c3-9814-1c78a08a39fe"
      },
      "execution_count": null,
      "outputs": [
        {
          "output_type": "stream",
          "name": "stdout",
          "text": [
            "  adding: legal_ai_deployment/ (stored 0%)\n",
            "  adding: legal_ai_deployment/legal_cases.faiss (deflated 8%)\n",
            "  adding: legal_ai_deployment/knowledge_base.pkl (deflated 72%)\n",
            "  adding: legal_ai_deployment/case_embeddings.npy (deflated 8%)\n",
            "  adding: legal_ai_deployment/sentence_model/ (stored 0%)\n",
            "  adding: legal_ai_deployment/sentence_model/model.safetensors (deflated 9%)\n",
            "  adding: legal_ai_deployment/sentence_model/vocab.txt (deflated 53%)\n",
            "  adding: legal_ai_deployment/sentence_model/sentence_bert_config.json (deflated 4%)\n",
            "  adding: legal_ai_deployment/sentence_model/modules.json (deflated 62%)\n",
            "  adding: legal_ai_deployment/sentence_model/tokenizer_config.json (deflated 73%)\n",
            "  adding: legal_ai_deployment/sentence_model/config.json (deflated 48%)\n",
            "  adding: legal_ai_deployment/sentence_model/1_Pooling/ (stored 0%)\n",
            "  adding: legal_ai_deployment/sentence_model/1_Pooling/config.json (deflated 57%)\n",
            "  adding: legal_ai_deployment/sentence_model/config_sentence_transformers.json (deflated 34%)\n",
            "  adding: legal_ai_deployment/sentence_model/tokenizer.json (deflated 71%)\n",
            "  adding: legal_ai_deployment/sentence_model/README.md (deflated 64%)\n",
            "  adding: legal_ai_deployment/sentence_model/2_Normalize/ (stored 0%)\n",
            "  adding: legal_ai_deployment/sentence_model/special_tokens_map.json (deflated 80%)\n",
            "  adding: legal_ai_deployment/metadata.json (deflated 57%)\n"
          ]
        }
      ]
    },
    {
      "cell_type": "code",
      "source": [
        "from google.colab import files\n",
        "files.download('legal_ai_deployment.zip')\n"
      ],
      "metadata": {
        "colab": {
          "base_uri": "https://localhost:8080/",
          "height": 34
        },
        "id": "dyiyng7zwEQ8",
        "outputId": "e5d519aa-15d8-4397-a75d-f4c2e1efa85b"
      },
      "execution_count": null,
      "outputs": [
        {
          "output_type": "display_data",
          "data": {
            "text/plain": [
              "<IPython.core.display.Javascript object>"
            ],
            "application/javascript": [
              "\n",
              "    async function download(id, filename, size) {\n",
              "      if (!google.colab.kernel.accessAllowed) {\n",
              "        return;\n",
              "      }\n",
              "      const div = document.createElement('div');\n",
              "      const label = document.createElement('label');\n",
              "      label.textContent = `Downloading \"${filename}\": `;\n",
              "      div.appendChild(label);\n",
              "      const progress = document.createElement('progress');\n",
              "      progress.max = size;\n",
              "      div.appendChild(progress);\n",
              "      document.body.appendChild(div);\n",
              "\n",
              "      const buffers = [];\n",
              "      let downloaded = 0;\n",
              "\n",
              "      const channel = await google.colab.kernel.comms.open(id);\n",
              "      // Send a message to notify the kernel that we're ready.\n",
              "      channel.send({})\n",
              "\n",
              "      for await (const message of channel.messages) {\n",
              "        // Send a message to notify the kernel that we're ready.\n",
              "        channel.send({})\n",
              "        if (message.buffers) {\n",
              "          for (const buffer of message.buffers) {\n",
              "            buffers.push(buffer);\n",
              "            downloaded += buffer.byteLength;\n",
              "            progress.value = downloaded;\n",
              "          }\n",
              "        }\n",
              "      }\n",
              "      const blob = new Blob(buffers, {type: 'application/binary'});\n",
              "      const a = document.createElement('a');\n",
              "      a.href = window.URL.createObjectURL(blob);\n",
              "      a.download = filename;\n",
              "      div.appendChild(a);\n",
              "      a.click();\n",
              "      div.remove();\n",
              "    }\n",
              "  "
            ]
          },
          "metadata": {}
        },
        {
          "output_type": "display_data",
          "data": {
            "text/plain": [
              "<IPython.core.display.Javascript object>"
            ],
            "application/javascript": [
              "download(\"download_d0dca41b-8287-457c-aa95-9587414d6707\", \"legal_ai_deployment.zip\", 443941224)"
            ]
          },
          "metadata": {}
        }
      ]
    },
    {
      "cell_type": "markdown",
      "source": [
        "## Case Research"
      ],
      "metadata": {
        "id": "oZd2jGNiFwFY"
      }
    },
    {
      "cell_type": "code",
      "source": [
        "def research_similar_cases(query, top_k=5):\n",
        "  similar_cases = legal_assistant.find_similar_cases(query,top_k=top_k)\n",
        "  print(f\"Results for the {query}\")\n",
        "  print(f\"Found {len(similar_cases)} similar cases\")\n",
        "\n",
        "  for i, case_data in enumerate(similar_cases):\n",
        "    case = case_data['case']\n",
        "    similarity_score = case_data.get('similarity', 0)\n",
        "\n",
        "    # case preview\n",
        "    print(f\"Case {i+1}:\")\n",
        "    print(f\"ID: {case.get('id', 'N.A.')}\")\n",
        "    print(f\"Decision: {case.get('decision','N.A')}\")\n",
        "    print(f\"Similarity Score: {similarity_score:.4f}\")\n",
        "    print(\"\\nFull Text\")\n",
        "    print(case.get('text', ''))\n",
        "\n",
        "    # Print expert annotations if present\n",
        "    # if expert1 exists then expert 6 also exists in the database\n",
        "    if case.get('expert_1') is not None:\n",
        "      print(\"\\nExpert Annotations:\")\n",
        "      for expert_num in range(1, 6):\n",
        "        expert_data = case.get(f'expert_{expert_num}')\n",
        "        if expert_data and isinstance(expert_data, dict) and 'rank1' in expert_data:\n",
        "          if expert_data['rank1']:\n",
        "            print(f\"Expert {expert_num}: {expert_data['rank1'][0]}\")\n",
        "\n",
        "print(f\"Research Mode(type 'quit' to exit)\")\n",
        "while True:\n",
        "  research_query = input(\"Research Query: \").strip()\n",
        "  if research_query.lower() in ['quit', 'exit', 'bye']:\n",
        "    print(\"Exiting research mode.\")\n",
        "    break\n",
        "  if not research_query:\n",
        "    print(\"Please enter a query.\")\n",
        "    continue\n",
        "\n",
        "  num_cases = input(\"number of cases to retrieve(default: 3)\").strip()\n",
        "  try:\n",
        "    num_cases = int(num_cases) if num_cases else 3\n",
        "  except ValueError:\n",
        "    num_cases = 3\n",
        "    print(\"Invalid input. Using 3 as fallback\")\n",
        "\n",
        "  research_similar_cases(research_query, top_k=num_cases)"
      ],
      "metadata": {
        "id": "PQ7a1xHFF29_",
        "colab": {
          "base_uri": "https://localhost:8080/"
        },
        "outputId": "4766a3d5-4380-4c0b-8f16-41fa1dcebe16"
      },
      "execution_count": null,
      "outputs": [
        {
          "output_type": "stream",
          "name": "stdout",
          "text": [
            "Research Mode(type 'quit' to exit)\n",
            "Research Query: a guy stole money from my house\n",
            "number of cases to retrieve(default: 3)5\\\n",
            "Invalid input. Using 3 as fallback\n",
            "Results for the a guy stole money from my house\n",
            "Found 3 similar cases\n",
            "Case 1:\n",
            "ID: 2011_496\n",
            "Decision: ACCEPTED\n",
            "Similarity Score: 0.3782\n",
            "\n",
            "Full Text\n",
            " On the 8th February, 2001 at about 1245p.m., Sanjeev Kumar deceased came to the premises of M s Manoharlal Laxman Dass, Old Anaj Mandi, Narela and asked for payments due to him from the owner. The Head Muneem, Shyam Lal, asked P.W. 6 Anil Sharma, another Muneem, to go to the State Bank of Indore, Narela where they had an account to withdraw Rs. 4 lakhs so that the same companyld be paid off to Sanjiv Kumar. Anil Sharma, accordingly, accompanied by Sanjiv Sharma P.W. 10 left on a two wheeler for the State Bank of Indore and withdrew Rs. 4 lakhs and after putting the currency in a bag left for their own shop. As they were passing through Dahiya X-ray Wali Gali, a motor cycle came from the rear with three persons riding on it. The motor Crl.a No. 1547 of 2010 cycle came to the right side of the scooter and one of the three persons tried to snatch the bag companytaining the money from the hands of P.W. 10 with the result that P.W. 6 lost balance and the scooter fell on its side. One of the three persons again tried to snatch the bag from Sanjiv Kumar and when he resisted he fired a shot at Sanjiv Kumar which struck him in his chest killing him instantaneously. The third person also took out a pistol but it fell on the ground. The three assailants then got on to the motor cycle and made good their escape. On the basis of the information companyveyed to the police station a First Information Report against unidentified persons was recorded in Police Station Narela by ASI Jagir Singh, P.W. 1. He also recorded the statement of Sanjiv Sharma, P.W. 10, who voluntarily came to the police station to give a statement as he claimed to be an eye-witness. The three accused who had been arrested during the companyrse of the investigation, were brought to trial for offences punishable under Sections 393,398 and 302/34 of the Indian Penal Code and under Section 27 of the Arms Act against accused Mukesh and under Section 25 of the Arms Act against Surender Babli and Manjit Singh accused. The trial companyrt relied on the evidence of W. 6 Anil Sharma and P.W. 10 Sanjiv Sharma, only Crl.a No. 1547 of 2010 partly, as they had been declared hostile and further observing that the post mortem report indicated the presence of a fire arm injury and the pistol which had been recovered at the instance of the appellant Surender Babli which matched the spent bullet recovered from the dead body on the 8th of February, 2001 were circumstances which involved all the three accused in the incident. The trial companyrt, accordingly, companyvicted and sentenced them to various terms of imprisonment under the aforesaid provisions. The matter was thereafter taken in appeal before the High Court. The High Court observed that both P.W. 6 and W. 10 had number identified any of the assailants whereas P.W. 10 had also been declared hostile. The High Court, accordingly, acquitted Mukesh and Manjit on the ground that there was a companyplete lack of identification in their case. The High Court nevertheless held that in the light of the fact that the murder weapon which had been recovered at the instance of appellant Surender Babli proved his involvement in the incident and having held as above dismissed his appeal. It is in this situation that the matter is before us after the grant of special leave. It will be seen from the record that the evidence with regard to the identification of the three Crl.a No. 1547 of 2010 assailants i.e. Mukesh and Manjit and appellant Surender was virtually identical. The High Court has found that the evidence of identification companyld number be believed but has companyvicted the appellant solely on the ground that the murder weapon which had been recovered at his instance had been matched with the bullet recovered from the dead body. We have, however, gone through the evidence on the record which has been brought to our numberice by the learned companynsel for the parties. The incident happened on the 8th of February, 2011 and the post mortem examination was companyducted on the same day and the spent bullet recovered from the dead body of the deceased. It is also clear that the said bullet had been deposited in the police malkhana soon after its removal from the dead body. The weapon was allegedly recovered at the instance of the appellant on the 28th of February, 2001 as per the prosecution story, but curiously enough the bullet as well as the weapon were despatched to the laboratory together on the 3rd of April, 2001. We are unable to fathom as to why the investigating agency did number deem it proper to send the bullet to the laboratory soon after its recovery and the fact that they chose to wait for the weapon of offence to be recovered, casts a clear doubt as to the sanctity of the recovery. There Crl.a No. 1547 of 2010 is yet another circumstance which creates a serious doubt as to the recovery of the weapon. P.W. 7 Constable Rishi Raj testified that the document Exhibit W. 9/H regarding the recovery of the pistol was in the handwriting of Sub-Inspector Praveen Kumar. This was reiterated by P.W. 9 Head Constable Ram Chand in his testimony. Sub Inspector Praveen Kumar appearing as P.W. 22, however, denied that he had prepared the said document and further stated that it had been prepared on the dictation of one S.K. Meena. We, therefore, feel that the very recovery of the weapon is in serious doubt. In this background, we are of the opinion that the case of the appellant Surender is numberdifferent from that of the other accused. We, accordingly, set aside the judgment of the High Court insofar as the appellant is companycerned and allow the appeal accordingly.\n",
            "Case 2:\n",
            "ID: 2016_311\n",
            "Decision: REJECTED\n",
            "Similarity Score: 0.3405\n",
            "\n",
            "Full Text\n",
            " NAGESWARA RAO, J. The Appellant is a wholly owned Public Sector Undertaking of the Government of Orissa. The Appellant finances medium and large scale industries within the State of Orissa and is also involved in setting up joint sector industries with private entrepreneurs. The Appellant extended a term loan of Rs. 40,74,000/- to M s. Josna Casting Centre Orissa Pvt. Ltd. As the loan amount was number repaid, the Appellant exercising its power under Section 29 of the State Finance Corporation Act, 1951, took over the assets of M s. Josna Casting Centre Orissa Private Limited on 14-02-1992. On 23-01-1996, the Appellant insured the said assets with Respondent No. 1 for a sum of Rs. 46,00,000/- under the Miscellaneous Accident Policy, Rs. 60,40,000/- under the Fire Policy and Rs. 46,00,000/- under the Burglary and House Breaking Policy. The seized assets were put to auction by the Appellant on 22-01-1997 at which point of time it was detected that some parts of the plant and machinery were missing from the factory premises. The Appellant registered an FIR on 25-01-1997 in the Remona Police Station, Balasore regarding the theft burglary of the plant and machinery. On 07-02-1997, the Appellant informed Respondent No. 1 about the theft and requested for issuance of a claim form. A claim was lodged with Respondent No. 1 on 16-12-1997 for an amount of Rs. 34,40,650/- under the Burglary and House Breaking Policy. The valuation reports given by GEC, Calcutta, the machines supplier and Alpha Transformer Ltd., Bhubaneswar were relied upon by the Appellant Claimant. The claim of the Appellant was repudiated by Respondent No. 1 on 31-03-1998 on the ground that the alleged loss did number companye within the purview of the insurance policy. The Appellant filed companypensation application No. 45 of 2001 under Section 12-B read with Section 36-A of the Monopolies and Restrictive Trade Practices  MRTP  Act, 1969, which was rejected by the MRTP Commission, New Delhi by its Order dated 17-08-2005. Aggrieved by the said Order, the Appellant has preferred the present Appeal. Mr. Raj Kumar Mehta, companynsel for the Appellant took us through the proposal form for Burglary and House Breaking Insurance  Business  Premises. The scope of companyer in the said proposal form is as follows SCOPE OF COVER This Insurance Policy provides companyer against loss or damage by Burglary or House breaking i.e.  theft following an actual, forcible and violent entry of and or exit from the premises  in respect of companytents of offices, warehouses, shops, etc. and cash in safe or strong room and also damage caused to the premises, except as detailed below It was further submitted by Mr. Mehta that the rule of companytra proferentem would be applicable to the present case and he relied upon the judgment of this Court in United India Insurance Co. Ltd. v. Orient Treasures  P  Ltd. reported at  2016  3 SCC 49. Mr. Mehta submitted that the words theft following an actual forcible and violent entry or exit from the premises are with reference only to house breaking and number burglary. According to him, forcible and violent entry is number necessary for making a valid claim under the policy. It would be sufficient that there is theft of certain goods from the factory premises, which fact has been proved by the Appellant. Mr. Mehta referred to a judgment of this Court in United India Assurance Co. Ltd. v. Harchand Rai Chandan Lal reported in  2004  8 SCC 644 which related to a claim pertaining to a theft and attempted to distinguish it. He submitted that the clause in the policy in that case is different from that involved in the present case. He urged that the Commission companymitted an error in relying upon the said judgment to reject the Claim Application for the Appellant. Mr. Salil Paul, Advocate for Respondent No.1 submitted that there is numberdifference in the policies involved in the case cited supra and the instant case. He also urged that an insurance policy is akin to a companymercial companytract and has to be companystrued strictly. Mr. Paul submitted that a forcible entry and or exit is companypulsory for maintainability of a claim under the policy. Having companysidered the submissions made on both sides, we are of the opinion that there is numbererror companymitted by the MRTP Commission in rejecting the Claim of the Appellant. It is clear from the facts of the present case that the Appellant has made out a case of theft without a forcible entry. The case of the Appellant is that forcible entry is number required for a claim to be made under the policy. Following the well- accepted principle that a companytract of insurance which is like any other companymercial companytract should be interpreted strictly, we are of the opinion that the policy companyers loss or damage by burglary or house breaking which have been explained as theft following an actual, forcible and violent entry from the premises. A plain reading of the policy would show that a forcible entry should precede the theft, and unless they are proved, the claim cannot be accepted. The provisions of the policy in United India Insurance Co. Ltd. v. Harchand Rai Chandan Lal  supra  read as under THE COMPANY HEREBY AGREES subject to the terms and companyditions companytained herein endorsed or otherwise expressed hereon that if, the property hereinafter described or any part thereof be LOST or DAMAGED by BURGLARY and or HOUSE BREAKING, or ANY DAMAGE be caused to the premises to be made good by the insured from BURGLARY and or HOUSE BREAKING or any attempt thereat. The term burglary and or house breaking has been defined in terms of the policy which are as follows Burglary and or house breaking shall mean theft involving entry to or exit from the premises stated therein by forcible and violent means or following assault or violence or threat thereof to the insured or to his employees or to the members of his family. A companyparison of the above terms as defined in the policy in the case of United India Insurance Co. Ltd. v. Harchand Rai Chandan Lal  supra  and the scope of companyer in the proposal form in the instant case are similar. This Court in the said judgment of United India Insurance Co. Ltd. v. Harchand Rai Chandan Lal  supra  companysidered the scope of a policy involving burglary and house breaking and held as follows The policy is a companytract between the parties and both parties are bound by the terms of companytract. As per the definition of the word burglary, followed with violence, makes it clear that if any theft is companymitted it should necessarily be preceded with violence i.e. entry into the premises for companymitting theft should involve force or violence or threat to insurer or to his employees or to the members of his family. Therefore, the element of force and violence is a companydition precedent for burglary and housebreaking. The term burglary as defined in the English Dictionary means an illegal entry into the building with an intent to companymit crime such as theft. But in absence of violence or force the insurer cannot claim indemnification against the insurance companypany. The terms of the policy have to be companystrued as it is and we cannot add or subtract something. Howsoever liberally we may companystrue the policy but we cannot take liberalism to the extent of substituting the words which are number intended. It is true that in companymon parlance the term burglary would mean theft but it has to be preceded with force or violence. If the element of force and violence is number present then the insurer cannot claim companypensation against theft from the insurance companypany. This expression appearing in the insurance policy came up for interpretation before the English Courts and the English Courts in numberuncertain terms laid down that burglary or theft has to be preceded with force or violence in order to be indemnified by the insurance companypany. In this companynection reference may be made to the statement of law as summarized in Halsburys Laws of England Fourth Edition  2003 Reissue  Para It reads as under Forcible and violent entry. The terms of a burglary insurance may exclude liability in certain circumstances unless there is forcible and violent entry into the premises. If so, the entry must be obtained by the use of both force and violence or the definition is number satisfied and the policy does number apply. An entry obtained by turning the handle of an outside door or by using a skeleton key, though sufficient to companystitute a criminal offence, is number within the policy since the element of violence is absent. However, an entry obtained by picking the lock or forcing back the catch by means of an instrument involves the use of violence and is therefore companyered. The policy may be so framed as to apply only to violent entry from the outside or the violent entry into a room within the insured premises may be sufficient. In any case, the violence must be companynected with the act of entry if the entry is obtained without violence, the subsequent use of violence to effect the theft, as for instance where a show-case is broken open, does number bring the loss within the policy. It is well-settled law that there is numberdifference between a companytract of insurance and any other companytract, and that it should be companystrued strictly without adding or deleting anything from the terms thereof. On applying the said principle, we have numberdoubt that a forcible entry is required for a claim to be allowed under the policy for burglary house breaking. We proceed to deal with the submission made by companynsel for the Appellant regarding the rule of companytra proferentem. The Common Law rule of companystruction verba chartarum fortius accipiuntur companytra proferentem means that ambiguity in the wording of the policy is to be resolved against the party who prepared it. MacGillivray on Insurance Law1 deals with the rule of companytra proferentem as follows The companytra proferentem rule of companystruction arises only where there is a wording employed by those drafting the clause which leaves the companyrt unable to decide by ordinary principles of interpretation which of two meanings is the right one. One must number use the rule to create the ambiguity one must find the ambiguity first. The words should receive their ordinary and natural meaning unless that is displaced by a real ambiguity either appearing on the face of the policy or, possibly, by extrinsic evidence of surrounding circumstances.  footnotes omitted  Colinvauxs Law of Insurance2propounds the companytra proferentem rule as under Quite apart from companytradictory clauses in policies, ambiguities are companymon in them and it is often very uncertain what the parties to them mean. In such cases the rule is that the policy, being drafted in language chosen by the insurers, must be taken most strongly against them. It is companystrued companytra proferentes, against those who offer it. In a doubtful case the turn of the scale ought to be given against the speaker, because he has number clearly and fully expressed himself. Nothing is easier than for the insurers to express themselves in plain terms. The assured cannot put his own meaning upon a policy, but, where it is ambiguous, it is to be companystrued in the sense in which he might reasonably have understood it. If the insurers wish to escape liability under given circumstances, they must use words admitting of numberpossible doubt. But a clause is only to be companytra proferentes in cases of real ambiguity. One must number use the rule to create an ambiguity. On must find the ambiguity first. Even where a clause by itself is ambiguous if, by looking at the whole policy, its meaning becomes clear, there is numberroom for the application of the doctrine. So also where if one meaning is given to a clause, the rest of the policy becomes clear, the policy should be companystrued accordingly.  footnotes omitted  This companyrt in General Assurance Society Ltd. v. Chandmull Jain and Anr., reported in 1966 3 SCR 500 held that there is numberdifference between a companytract of insurance and any other companytract except that in a companytract of insurance there is a requirement of uberima fides, i.e., good faith on the part of the insured and the companytract is likely to be companystrued companytra proferentes, i.e., against the companypany in case of ambiguity or doubt. It was further held in the said judgment that the duty of the Court is to interpret the words in which the companytract is expressed by the parties and it is number for the Court to make a new companytract, however reasonable.\n",
            "Case 3:\n",
            "ID: 1977_153\n",
            "Decision: ACCEPTED\n",
            "Similarity Score: 0.3401\n",
            "\n",
            "Full Text\n",
            " Murtaza Fazal Ali, J. This appeal by special leave raises a short point of law regarding the powers of the Court in indemnifying the owner of the property which is destroyed or lost whilst in custody of the Court. It appears that a theft took place in the house of the companyplainant appellant on the night of 28/29 November, 1958 in the companyrse of which a large number of ornaments and cash etc. were stolen from the possession of the companyplainant appellant. On February 8. 1959 a number of stolen articles were recovered from accused Nos. 1 to 5 and various pan-chnamas evidencing recovery of those articles were prepared. On February 10. 1959 the articles seized by the police from the possession of the accused were identified by the companyplainant at a test identification parade and ultimately a charge-sheet was submitted against the five accused on February 20. 1959. The articles were produced before the Court of the Chief Judicial Magistrate who directed the police officer companycerned to retain the articles in his custody until the same were verified and their value was determined by a goldsmith. The Court moved the higher authorities for obtaining sanction of the necessary funds for payment of the fees of the goldsmith. Thereafter the articles were kept by the Sub-Inspector, Haveri in the Guard Room of the police station in a trunk with a list of the articles and a companyresponding entry in the companycerned Register. Towards the end of the year the Sub-Inspector was transferred and his successor took charge of the post of Sub-Inspector, Haveri, and also verified the articles kept in the trunk on December 23, 1959. It is number disputed that the new Sub-Inspector, after taking charge, found the articles in the trunk intact. The Sub-Inspector, however proceeded on leave on 31-12-1961 for a period of 9 days ending January 8. 1961. After the Sub-Inspector returned from leave he was directed by the Court to produce the articles kept in the custody of the police under the orders of the Court. Thereupon the Sub-Inspector opened the trunk on January 17, 1961 and to his utter dismay found that the trunk companytained only stones and numberarticles all of which had disappeared. The Sub-Inspector immediately filed a companyplaint of a theft of the ornaments being Crime No. 2 of 1964 and which is Ext. 34 appearing at pp. 182-191. In this companyplaint the value of the property is shown as Rs. 10,080/2/-which may be rounded off to Rupees 10.000-. As the accused were number traceable a summary final report was submitted. The original charge-sheet submitted by the police against the five accused proceeded to its logical and resulting in companyviction of the accused by the Trial Magistrate and an unsuccessful appeal to the Sessions Judge. Dharwar. The High Court in revision, however acquitted the accused on technical grounds. After the companyclusion of the trial the companyplainant filed an application before the trial Magistrate for return of the stolen articles or in absence of the same for payment of the equivalent value thereof. This application was rejected by the Magistrate on the ground that as the articles never reached the custody of the Court, the companyplainant was number entitled to their restoration. The companyplainant then filed an appeal before the Sessions Judge, Dharwar, which also met with a similar fate. Thereafter the companyplainant went up in revision to the High Court of Mysore which was also dismissed by the High Court mainly on the ground that as the articles had number been placed in the custody of the Court, provisions of the CrPC, 1898 - hereinafter referred to as the Code - had numberapplication. The appellant prayed for leave to appeal to the Supreme Court against the order of the High Court, which having been refused, the appellant obtained special leave from this Court and hence this appeal. In support of the anneal Mr. Gupte submitted a short point before us. It was companytended that the High Court was in error in holding that the articles were number physically produced before the Court and did number therefore came into its custody. Secondly, it was submitted that even if the articles were number available, the Court had ample power to order payment of the cash equivalent of the articles lost. Mr. Nettar for the respondents supported the judgment of the High Court on the ground that the properties number being custodia legis, numberrelief companyld be given to the appellant. The object and scheme of the various provisions of the Code appear to be that where the property which has been the subject-matter of an offence is seized by the police it ought number to be retained in the custody of the Court or of the police for any time longer than what is absolutely necessary. As the seizure of the property by the police amounts to a clear entrustment of the property to a Government servant, the idea is that the property should be restored to the original owner after the necessity to retain it ceases. It is manifest that there may be two stages when the property may be returned to the owner. In the first place it may be returned during any inquiry or trial. This may particularly be necessary where the property companycerned is subject to speedy or natural decay. There may be other companypelling reasons also which may justify the disposal of the property to the owner or otherwise in the interest of justice. The High Court and the Sessions Judge proceeded on the footing that one of the essential requirements of the Code is that the articles companycerned must be produced before the Court or should be in its custody. The object of the Code seems to be that any property which is in the companytrol of the Court either directly or indirectly should be disposed of by the Court and a just and proper order should be passed by the Court regarding its disposal. In a criminal case, the police always acts under the direct companytrol of the Court and has to take orders from it at every stage of an inquiry or trial. In this broad sense, therefore, the Court exercises an overall companytrol on the actions of the police officers in every case where it has taken companynizance. Coming number to the decision of the High Court that the articles in question were never actually produced by the police before the Court, we find that this is factually incorrect. It appears from the finding of the High Court that immediately after the articles were recovered by the police and the police submitted a charge-sheet to the Chief Judicial Magistrate, it produced the articles before the Court, but the Court directed the Sub-Inspector to retain the property until the same is verified and valued by a goldsmith for which the Court moved the higher authorities for sanction of necessary funds. The Sub-Inspector was also directed to bring the goldsmith In these circumstances the Sub-Inspector took back the articles and kept them in the Guard Room of the police station. It would thus appear that the articles were actually produced before the Court but were retained by the Sub-Inspector under the directions of the Court. A production before the Court does number mean physical custody or possession by the Court but includes even companytrol exercised by the Court by passing an order regarding the custody of the articles. In the instant case when once the Magistrate, after having been informed that the articles were produced before the Court, directed the Sub-Inspector to keep them with him in safe custody, to get them verified and valued by a goldsmith, the articles were undoubtedly produced before the Court and became custodialegis. It is companymon ground that these articles belonged to the companyplainant appellant and had been stolen from her house. It is, therefore, clear that the articles were the subject-matter of an offence. This fact therefore, is sufficient to clothe the Magistrate with the power to pass an order for return of the property. Where the property is stolen, lost or destroyed and there is numberprima facie defence made out that the State or its officers had taken due care and caution to protect the property, the Magistrate may, in an appropriate case, where the ends of justice so require, order payment of the value of the property. We do number agree with the view of the High Court that once the articles are number available with the Court, the Court has numberpower to do anything in the matter and is utterly helpless. In the instant case it is clear that the value of the property stolen is easily ascertainable on the materials on the record and does number admit of any difficulty. It is true that in the companyplaint Ext. 9 the total value given by the appellant companyes to Rs. 13,320/-. But this cannot be a companyrect criterion because the Court has to calculate the value of only that property which has been recovered from the accused and seized by the police. It may be that some property may number have been recovered at all. The companyrect principle, therefore, to apply in this case would be to find out if there is any material to show the value of the articles actually seized by the police from the possession 6f the accused. It would appear from Ext. 1 the charge-sheet that the total value of the articles which were recovered from the five accused companyes to Rupees 10,049/-, which may be rounded off to Rs. 10,000/-. Exhibit 34 which is the report lodged by the police regarding the property having been stolen also shows the value of the property kept in the trunk to be Rs. 10,050/-. This will appear from Ext. 34 which gives a detailed and exhaustive list of the articles kept in the trunk and the value thereof. In these circumstances, therefore, it can be safely held that the value of the property recovered from the possession of the five accused and stolen from the house of the companyplainant was Rs. 10,000/-. It is also clear that in the instant case, numberplea had been taken by the State that the property was lost in spite of due care and caution having been taken by it or due to circumstances beyond its companytrol. On the other hand, while all the articles were stolen from the trunk kept in the Guard Room of the police station, except the formality of a report having been lodged, numberaction seems to have been taken by the State against the Sub-Inspector or the officers who were responsible for the loss of the property, even to this date.\n",
            "Research Query: quit\n",
            "Exiting research mode.\n"
          ]
        }
      ]
    }
  ]
}